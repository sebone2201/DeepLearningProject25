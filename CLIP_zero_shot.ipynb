{
  "cells": [
    {
      "cell_type": "markdown",
      "metadata": {
        "id": "mYQiprE0pcVD"
      },
      "source": [
        "# CLIP zero-shot Evaluation\n",
        "This short notebook implements the dataset split into base and novel categories (see project assignment) and runs the zero-shot evaluation with CLIP.\n",
        "Feel free to copy the code contained in this notebook or to directly use this notebook as starting point for you project."
      ]
    },
    {
      "cell_type": "code",
      "execution_count": 1,
      "metadata": {
        "id": "UzXtFjhh7iOS",
        "colab": {
          "base_uri": "https://localhost:8080/"
        },
        "outputId": "b7b1b9eb-6cc3-47de-9689-9da9ca180b1b"
      },
      "outputs": [
        {
          "output_type": "stream",
          "name": "stdout",
          "text": [
            "Collecting openai_clip\n",
            "  Downloading openai-clip-1.0.1.tar.gz (1.4 MB)\n",
            "\u001b[?25l     \u001b[90m━━━━━━━━━━━━━━━━━━━━━━━━━━━━━━━━━━━━━━━━\u001b[0m \u001b[32m0.0/1.4 MB\u001b[0m \u001b[31m?\u001b[0m eta \u001b[36m-:--:--\u001b[0m\r\u001b[2K     \u001b[91m━━━━━━━━━━━━━━━━━━━━━━━━━━━━━━━━━━━━━━━\u001b[0m\u001b[91m╸\u001b[0m \u001b[32m1.4/1.4 MB\u001b[0m \u001b[31m40.1 MB/s\u001b[0m eta \u001b[36m0:00:01\u001b[0m\r\u001b[2K     \u001b[90m━━━━━━━━━━━━━━━━━━━━━━━━━━━━━━━━━━━━━━━━\u001b[0m \u001b[32m1.4/1.4 MB\u001b[0m \u001b[31m20.8 MB/s\u001b[0m eta \u001b[36m0:00:00\u001b[0m\n",
            "\u001b[?25h  Preparing metadata (setup.py) ... \u001b[?25l\u001b[?25hdone\n",
            "Collecting ftfy (from openai_clip)\n",
            "  Downloading ftfy-6.3.1-py3-none-any.whl.metadata (7.3 kB)\n",
            "Requirement already satisfied: regex in /usr/local/lib/python3.11/dist-packages (from openai_clip) (2024.11.6)\n",
            "Requirement already satisfied: tqdm in /usr/local/lib/python3.11/dist-packages (from openai_clip) (4.67.1)\n",
            "Requirement already satisfied: wcwidth in /usr/local/lib/python3.11/dist-packages (from ftfy->openai_clip) (0.2.13)\n",
            "Downloading ftfy-6.3.1-py3-none-any.whl (44 kB)\n",
            "\u001b[2K   \u001b[90m━━━━━━━━━━━━━━━━━━━━━━━━━━━━━━━━━━━━━━━━\u001b[0m \u001b[32m44.8/44.8 kB\u001b[0m \u001b[31m2.7 MB/s\u001b[0m eta \u001b[36m0:00:00\u001b[0m\n",
            "\u001b[?25hBuilding wheels for collected packages: openai_clip\n",
            "  Building wheel for openai_clip (setup.py) ... \u001b[?25l\u001b[?25hdone\n",
            "  Created wheel for openai_clip: filename=openai_clip-1.0.1-py3-none-any.whl size=1368605 sha256=eea4dc4806bff7583357dce9923118a1a95f5b1749a077b606b78d3fbd1b6db1\n",
            "  Stored in directory: /root/.cache/pip/wheels/0d/17/90/042948fd2e2a87f1dcf6db6d438cad015c49db0c53d1d9c7dc\n",
            "Successfully built openai_clip\n",
            "Installing collected packages: ftfy, openai_clip\n",
            "Successfully installed ftfy-6.3.1 openai_clip-1.0.1\n"
          ]
        }
      ],
      "source": [
        "# we need to install clip as it is not pre-installed\n",
        "# you are also free to use open_clip which provide more models\n",
        "# https://github.com/mlfoundations/open_clip\n",
        "%pip install openai_clip"
      ]
    },
    {
      "cell_type": "code",
      "execution_count": 2,
      "metadata": {
        "id": "QtqdSOr8qqOn"
      },
      "outputs": [],
      "source": [
        "import torch\n",
        "import torchvision\n",
        "import clip\n",
        "from tqdm import tqdm"
      ]
    },
    {
      "cell_type": "markdown",
      "metadata": {
        "id": "2353MHw1p24h"
      },
      "source": [
        "## Dataset Loading\n",
        "Let's get the data directly from torchvision as we have seen during labs."
      ]
    },
    {
      "cell_type": "code",
      "execution_count": 3,
      "metadata": {
        "id": "M_1CrUhZpVCq"
      },
      "outputs": [],
      "source": [
        "def get_data(data_dir=\"./data\", transform=None):\n",
        "    \"\"\"Load Flowers102 train, validation and test sets.\n",
        "    Args:\n",
        "        data_dir (str): Directory where the dataset will be stored.\n",
        "        transform (torch.Compose)\n",
        "    Returns:\n",
        "        tuple: A tuple containing the train, validation, and test sets.\n",
        "    \"\"\"\n",
        "    train = torchvision.datasets.Flowers102(root=data_dir, split=\"train\", download=True, transform=transform)\n",
        "    val = torchvision.datasets.Flowers102(root=data_dir, split=\"val\", download=True, transform=transform)\n",
        "    test = torchvision.datasets.Flowers102(root=data_dir, split=\"test\", download=True, transform=transform)\n",
        "    return train, val, test"
      ]
    },
    {
      "cell_type": "markdown",
      "metadata": {
        "id": "KJI_a5EizA5a"
      },
      "source": [
        "## Base and Novel categories\n",
        "To split in base and novel categories we list all dataset classes, and count their number (we already know it's 102 but let's do it properly).\n",
        "Then, we just allocate the first half to base categories and the remaining half to novel ones.\n",
        "We can do this because we are simulating a real world application, but keep in mind this will not happen out there!"
      ]
    },
    {
      "cell_type": "code",
      "execution_count": 4,
      "metadata": {
        "id": "nfq51vd8q_5a"
      },
      "outputs": [],
      "source": [
        "def base_novel_categories(dataset):\n",
        "    # set returns the unique set of all dataset classes\n",
        "    all_classes = set(dataset._labels)\n",
        "    # and let's count them\n",
        "    num_classes = len(all_classes)\n",
        "\n",
        "    # here list(range(num_classes)) returns a list from 0 to num_classes - 1\n",
        "    # then we slice the list in half and generate base and novel category lists\n",
        "    base_classes = list(range(num_classes))[:num_classes//2]\n",
        "    novel_classes = list(range(num_classes))[num_classes//2:]\n",
        "    return base_classes, novel_classes"
      ]
    },
    {
      "cell_type": "markdown",
      "metadata": {
        "id": "kvDdoYQr2fIu"
      },
      "source": [
        "## Inspect Classes\n",
        "Let's now visualize which are the base and novel classes.\n",
        "To do so, we first get a dummy test set (without augmentations) as we are just interested in the dataset labels. Then, we split it useing `base_novel_categories`.\n",
        "Finally, we use the hard-coded CLASS_NAMES to print the class in natural language.\n",
        "\n",
        "> Note: the list of class names was only recently added to `torchvision.datasets.Flowers102`. To avoid useless errors that can occour to you, we decided to also provide such a list."
      ]
    },
    {
      "cell_type": "code",
      "execution_count": 5,
      "metadata": {
        "colab": {
          "base_uri": "https://localhost:8080/"
        },
        "id": "veGGpNDctCgR",
        "outputId": "0b12e677-e71d-4e2a-fa7d-db4e634bfca7",
        "collapsed": true
      },
      "outputs": [
        {
          "output_type": "stream",
          "name": "stderr",
          "text": [
            "100%|██████████| 345M/345M [00:04<00:00, 84.2MB/s]\n",
            "100%|██████████| 502/502 [00:00<00:00, 2.01MB/s]\n",
            "100%|██████████| 15.0k/15.0k [00:00<00:00, 25.7MB/s]\n"
          ]
        },
        {
          "output_type": "stream",
          "name": "stdout",
          "text": [
            "Base Class Names: [(0, 'pink primrose'), (1, 'hard-leaved pocket orchid'), (2, 'canterbury bells'), (3, 'sweet pea'), (4, 'english marigold'), (5, 'tiger lily'), (6, 'moon orchid'), (7, 'bird of paradise'), (8, 'monkshood'), (9, 'globe thistle'), (10, 'snapdragon'), (11, \"colt's foot\"), (12, 'king protea'), (13, 'spear thistle'), (14, 'yellow iris'), (15, 'globe-flower'), (16, 'purple coneflower'), (17, 'peruvian lily'), (18, 'balloon flower'), (19, 'giant white arum lily'), (20, 'fire lily'), (21, 'pincushion flower'), (22, 'fritillary'), (23, 'red ginger'), (24, 'grape hyacinth'), (25, 'corn poppy'), (26, 'prince of wales feathers'), (27, 'stemless gentian'), (28, 'artichoke'), (29, 'sweet william'), (30, 'carnation'), (31, 'garden phlox'), (32, 'love in the mist'), (33, 'mexican aster'), (34, 'alpine sea holly'), (35, 'ruby-lipped cattleya'), (36, 'cape flower'), (37, 'great masterwort'), (38, 'siam tulip'), (39, 'lenten rose'), (40, 'barbeton daisy'), (41, 'daffodil'), (42, 'sword lily'), (43, 'poinsettia'), (44, 'bolero deep blue'), (45, 'wallflower'), (46, 'marigold'), (47, 'buttercup'), (48, 'oxeye daisy'), (49, 'common dandelion'), (50, 'petunia')]\n",
            "Novel Class Names: [(51, 'wild pansy'), (52, 'primula'), (53, 'sunflower'), (54, 'pelargonium'), (55, 'bishop of llandaff'), (56, 'gaura'), (57, 'geranium'), (58, 'orange dahlia'), (59, 'pink-yellow dahlia?'), (60, 'cautleya spicata'), (61, 'japanese anemone'), (62, 'black-eyed susan'), (63, 'silverbush'), (64, 'californian poppy'), (65, 'osteospermum'), (66, 'spring crocus'), (67, 'bearded iris'), (68, 'windflower'), (69, 'tree poppy'), (70, 'gazania'), (71, 'azalea'), (72, 'water lily'), (73, 'rose'), (74, 'thorn apple'), (75, 'morning glory'), (76, 'passion flower'), (77, 'lotus'), (78, 'toad lily'), (79, 'anthurium'), (80, 'frangipani'), (81, 'clematis'), (82, 'hibiscus'), (83, 'columbine'), (84, 'desert-rose'), (85, 'tree mallow'), (86, 'magnolia'), (87, 'cyclamen'), (88, 'watercress'), (89, 'canna lily'), (90, 'hippeastrum'), (91, 'bee balm'), (92, 'ball moss'), (93, 'foxglove'), (94, 'bougainvillea'), (95, 'camellia'), (96, 'mallow'), (97, 'mexican petunia'), (98, 'bromelia'), (99, 'blanket flower'), (100, 'trumpet creeper'), (101, 'blackberry lily')]\n"
          ]
        }
      ],
      "source": [
        "from os import name\n",
        "_, _, tmp_test = get_data()\n",
        "base_classes, novel_classes = base_novel_categories(tmp_test)\n",
        "CLASS_NAMES = [\"pink primrose\", \"hard-leaved pocket orchid\", \"canterbury bells\", \"sweet pea\", \"english marigold\", \"tiger lily\", \"moon orchid\", \"bird of paradise\", \"monkshood\", \"globe thistle\", \"snapdragon\", \"colt's foot\", \"king protea\", \"spear thistle\", \"yellow iris\", \"globe-flower\", \"purple coneflower\", \"peruvian lily\", \"balloon flower\", \"giant white arum lily\", \"fire lily\", \"pincushion flower\", \"fritillary\", \"red ginger\", \"grape hyacinth\", \"corn poppy\", \"prince of wales feathers\", \"stemless gentian\", \"artichoke\", \"sweet william\", \"carnation\", \"garden phlox\", \"love in the mist\", \"mexican aster\", \"alpine sea holly\", \"ruby-lipped cattleya\", \"cape flower\", \"great masterwort\", \"siam tulip\", \"lenten rose\", \"barbeton daisy\", \"daffodil\", \"sword lily\", \"poinsettia\", \"bolero deep blue\", \"wallflower\", \"marigold\", \"buttercup\", \"oxeye daisy\", \"common dandelion\", \"petunia\", \"wild pansy\", \"primula\", \"sunflower\", \"pelargonium\", \"bishop of llandaff\", \"gaura\", \"geranium\", \"orange dahlia\", \"pink-yellow dahlia?\", \"cautleya spicata\", \"japanese anemone\", \"black-eyed susan\", \"silverbush\", \"californian poppy\", \"osteospermum\", \"spring crocus\", \"bearded iris\", \"windflower\", \"tree poppy\", \"gazania\", \"azalea\", \"water lily\", \"rose\", \"thorn apple\", \"morning glory\", \"passion flower\", \"lotus\", \"toad lily\", \"anthurium\", \"frangipani\", \"clematis\", \"hibiscus\", \"columbine\", \"desert-rose\", \"tree mallow\", \"magnolia\", \"cyclamen\", \"watercress\", \"canna lily\", \"hippeastrum\", \"bee balm\", \"ball moss\", \"foxglove\", \"bougainvillea\", \"camellia\", \"mallow\", \"mexican petunia\", \"bromelia\", \"blanket flower\", \"trumpet creeper\", \"blackberry lily\"]\n",
        "print(\"Base Class Names:\", [(i, CLASS_NAMES[i]) for i in base_classes])\n",
        "name_base = [CLASS_NAMES[i] for i in base_classes]\n",
        "name_novel = [CLASS_NAMES[i] for i in novel_classes]\n",
        "print(\"Novel Class Names:\", [(i, CLASS_NAMES[i]) for i in novel_classes])"
      ]
    },
    {
      "cell_type": "markdown",
      "metadata": {
        "id": "8puO1VNpzwvi"
      },
      "source": [
        "## Split Dataset\n",
        "The next step is to actually split the dataset into the base and novel categories we extract from `base_novel_categories`.\n",
        "To split the data we need the dataset (obviously) and the list of base classes. If the sample label is not part of the base categories, then it must be part of the novel ones."
      ]
    },
    {
      "cell_type": "code",
      "execution_count": 6,
      "metadata": {
        "id": "msOszMs2zRRu"
      },
      "outputs": [],
      "source": [
        "def split_data(dataset, base_classes):\n",
        "    # these two lists will store the sample indexes\n",
        "    base_categories_samples = []\n",
        "    novel_categories_samples = []\n",
        "\n",
        "    # we create a set of base classes to compute the test below in O(1)\n",
        "    # this is optional and can be removed\n",
        "    base_set = set(base_classes)\n",
        "\n",
        "    # here we iterate over sample labels and also get the correspondent sample index\n",
        "    for sample_id, label in enumerate(dataset._labels):\n",
        "        if label in base_set:\n",
        "            base_categories_samples.append(sample_id)\n",
        "        else:\n",
        "            novel_categories_samples.append(sample_id)\n",
        "\n",
        "    # here we create the dataset subsets\n",
        "    # the torch Subset is just a wrapper around the dataset\n",
        "    # it simply stores the subset indexes and the original dataset (your_subset.dataset)\n",
        "    # when asking for sample i in the subset, torch will look for its original position in the dataset and retrieve it\n",
        "    # https://pytorch.org/docs/stable/data.html#torch.utils.data.Subset\n",
        "    base_dataset = torch.utils.data.Subset(dataset, base_categories_samples)\n",
        "    novel_dataset = torch.utils.data.Subset(dataset, novel_categories_samples)\n",
        "    return base_dataset, novel_dataset"
      ]
    },
    {
      "cell_type": "markdown",
      "metadata": {
        "id": "VQZT22rE8hBw"
      },
      "source": [
        "## Extract k shots\n",
        "As the dataset already provides 10 train and validation shots, we do not need to extract them.\n",
        "Beaware that Few-Shot Adaptation papers must do this operation as most datasets count significantly more samples in both the training and validation sets."
      ]
    },
    {
      "cell_type": "markdown",
      "metadata": {
        "id": "-KpbPRLr7WL_"
      },
      "source": [
        "## Load CLIP"
      ]
    },
    {
      "cell_type": "code",
      "execution_count": 7,
      "metadata": {
        "colab": {
          "base_uri": "https://localhost:8080/"
        },
        "id": "Sh6uLZRT7YJx",
        "outputId": "b616b4ad-14b4-4dd0-8663-c2830c42fc15",
        "collapsed": true
      },
      "outputs": [
        {
          "output_type": "stream",
          "name": "stderr",
          "text": [
            "100%|███████████████████████████████████████| 335M/335M [00:12<00:00, 27.9MiB/s]\n"
          ]
        },
        {
          "output_type": "execute_result",
          "data": {
            "text/plain": [
              "Compose(\n",
              "    Resize(size=224, interpolation=bicubic, max_size=None, antialias=True)\n",
              "    CenterCrop(size=(224, 224))\n",
              "    <function _convert_image_to_rgb at 0x7b49dbb02a20>\n",
              "    ToTensor()\n",
              "    Normalize(mean=(0.48145466, 0.4578275, 0.40821073), std=(0.26862954, 0.26130258, 0.27577711))\n",
              ")"
            ]
          },
          "metadata": {},
          "execution_count": 7
        }
      ],
      "source": [
        "device = \"cuda\" if torch.cuda.is_available() else \"cpu\"\n",
        "# available models = ['RN50', 'RN101', 'RN50x4', 'RN50x16', 'RN50x64', 'ViT-B/32', 'ViT-B/16', 'ViT-L/14', 'ViT-L/14@336px']\n",
        "model, preprocess = clip.load(\"ViT-B/16\", device=device)\n",
        "\n",
        "# preprocess contains CLIP's pre-defined augmentations, let's inspect them!\n",
        "preprocess"
      ]
    },
    {
      "cell_type": "markdown",
      "metadata": {
        "id": "lM9H14899ses"
      },
      "source": [
        "## Load and Prepare Data\n",
        "Here we get the three dataset split and pass clip pre-defined augmentations.\n",
        "Then, we compute base and novel categories (in this case is redundand as we already did it before).\n",
        "Finally, se split the three datasets into base and novel categories.\n",
        "As we want to use the novel categories only for the test set, we drop `train_novel` and `val_novel`."
      ]
    },
    {
      "cell_type": "code",
      "execution_count": 8,
      "metadata": {
        "id": "TVrYUYTv9ttM"
      },
      "outputs": [],
      "source": [
        "# get the three datasets\n",
        "train_set, val_set, test_set = get_data(transform=preprocess)\n",
        "\n",
        "# split classes into base and novel\n",
        "base_classes, novel_classes = base_novel_categories(train_set)\n",
        "\n",
        "# split the three datasets\n",
        "train_base, _ = split_data(train_set, base_classes)\n",
        "val_base, _ = split_data(val_set, base_classes)\n",
        "test_base, test_novel = split_data(test_set, base_classes)"
      ]
    },
    {
      "cell_type": "markdown",
      "metadata": {
        "id": "YcgMwr3J9VIg"
      },
      "source": [
        "## Compute Zero-Shot Predictions"
      ]
    },
    {
      "cell_type": "code",
      "execution_count": 9,
      "metadata": {
        "id": "7uhblkvm9US4"
      },
      "outputs": [],
      "source": [
        "@torch.no_grad() # we don't want gradients\n",
        "def eval(model, dataset, categories, batch_size, device, label=\"\"):\n",
        "    # let's set the model in evaluation mode\n",
        "    model.eval()\n",
        "\n",
        "    # Remap labels into a contiguous set starting from zero\n",
        "    contig_cat2idx = {cat: idx for idx, cat in enumerate(categories)}\n",
        "\n",
        "    # here we apply the standard CLIP template used for oxford flowers to all categories\n",
        "    # and immediately tokenize each sentence (convert natural language into numbers - feel free to print the text input to inspect them)\n",
        "    text_inputs = clip.tokenize(\n",
        "        [f\"a photo of a {CLASS_NAMES[c]}, a type of flower.\" for c in categories]\n",
        "    ).to(device)\n",
        "\n",
        "    # we can encode the text features once as they are shared for all images\n",
        "    # therefore we do it outside the evaluation loop\n",
        "    text_features = model.encode_text(text_inputs)\n",
        "    # and here we normalize them (standard pratice with CLIP)\n",
        "    text_features /= text_features.norm(dim=-1, keepdim=True) # per avere norma 1 per calcolare cosine similarity\n",
        "\n",
        "    # simple dataloader creation\n",
        "    dataloader = torch.utils.data.DataLoader(dataset, batch_size=batch_size, shuffle=False, num_workers=2)\n",
        "\n",
        "    # here we store the number of correct predictions we will make\n",
        "    correct_predictions = 0\n",
        "    for image, target in tqdm(dataloader, desc=label):\n",
        "        # base categories range from 0 to 50, whil novel ones from 51 to 101\n",
        "        # therefore we must map categories to the [0, 50], otherwise we will have wrong predictions\n",
        "        # Map targets in contiguous set starting from zero\n",
        "        # Labels needs to be .long() in pytorch\n",
        "        target = torch.Tensor([contig_cat2idx[t.item()] for t in target]).long()\n",
        "\n",
        "        image = image.to(device)\n",
        "        target = target.to(device)\n",
        "\n",
        "        # forward image through CLIP image encoder\n",
        "        image_features = model.encode_image(image)\n",
        "        # and normalize\n",
        "        image_features /= image_features.norm(dim=-1, keepdim=True)\n",
        "\n",
        "        # here cosine similarity between image and text features and keep the argmax for every row (every image)\n",
        "        predicted_class = (image_features @ text_features.T).argmax(dim=-1)\n",
        "        # now we check which are correct, and sum them (False == 0, True == 1)\n",
        "        correct_predictions += (predicted_class == target).sum().item()\n",
        "\n",
        "    # and now we compute the accuracy\n",
        "    accuracy = correct_predictions / len(dataset)\n",
        "    return accuracy\n",
        "\n",
        "base_accuracy = eval(model=model, dataset=test_base, categories=base_classes, batch_size=128, device=device, label=\"🧠 Zero-shot evaluation on Base Classes\")\n",
        "novel_accuracy = eval(model=model, dataset=test_novel, categories=novel_classes, batch_size=128, device=device, label=\"🧠 Zero-shot evaluation on Novel Classes\")\n",
        "\n",
        "print()\n",
        "print(f\"🔍 Base classes accuracy: {base_accuracy*100:.2f}%\")\n",
        "print(f\"🔍 Novel classes accuracy: {novel_accuracy*100:.2f}%\")\n"
      ]
    },
    {
      "cell_type": "markdown",
      "metadata": {
        "id": "baYfLKNdfbUR"
      },
      "source": [
        "## Harmonic Mean\n",
        "Few-Shot Adaptations papers usually report the Harmonic Mean.\n",
        "The harmonic mean tends to mitigate the impact of large outliers (base accuracy) and aggravate the impact of small ones (novel accuracy).\n",
        "Thus, achieving very high base accuracies at the expense of the novel accuracy will be penalized by the HM."
      ]
    },
    {
      "cell_type": "code",
      "execution_count": null,
      "metadata": {
        "colab": {
          "base_uri": "https://localhost:8080/"
        },
        "id": "rKAXR7hlfbUR",
        "outputId": "e00e50f4-3b0f-4e79-ed09-e8e82cc53668"
      },
      "outputs": [
        {
          "name": "stdout",
          "output_type": "stream",
          "text": [
            "🔍 Harmonic Mean: 74.62%\n"
          ]
        }
      ],
      "source": [
        "def harmonic_mean(base_accuracy, novel_accuracy):\n",
        "    numerator = 2\n",
        "    denominator = 1 / base_accuracy + 1 / novel_accuracy\n",
        "    hm = numerator / denominator\n",
        "    return hm\n",
        "\n",
        "print(f\"🔍 Harmonic Mean: {harmonic_mean(base_accuracy, novel_accuracy)*100:.2f}%\")"
      ]
    },
    {
      "cell_type": "markdown",
      "source": [
        "# Data Augmentation"
      ],
      "metadata": {
        "id": "R08jwnaQ8R2l"
      }
    },
    {
      "cell_type": "code",
      "source": [
        "import torchvision.transforms as transforms\n",
        "from torch.utils.data import Dataset\n",
        "from PIL import Image\n",
        "\n",
        "# Define data augmentation transformations\n",
        "augmentation_transforms = transforms.Compose([\n",
        "    transforms.RandomResizedCrop(size=224, scale=(0.8, 1.0)),  # Random crop and resize\n",
        "    transforms.RandomHorizontalFlip(p=0.5),  # 50% chance to flip horizontally\n",
        "    #transforms.ColorJitter(brightness=0.2, contrast=0.2, saturation=0.2, hue=0.1),  # Random color adjustments\n",
        "    transforms.RandomSolarize(0.5, p=1),\n",
        "    transforms.RandomRotation(degrees=15),  # Rotate image within ±15 degrees\n",
        "    #transforms.ToTensor(),  # Convert PIL image to tensor\n",
        "    transforms.Normalize(mean=[0.485, 0.456, 0.406], std=[0.229, 0.224, 0.225]),  # Normalize for CLIP\n",
        "])\n",
        "\n",
        "# Validation transformations (no augmentation, just normalization)\n",
        "validation_transforms = transforms.Compose([\n",
        "    transforms.Resize((224, 224)),  # Resize to a fixed size\n",
        "    transforms.ToTensor(),\n",
        "    transforms.Normalize(mean=[0.485, 0.456, 0.406], std=[0.229, 0.224, 0.225]),\n",
        "])\n",
        "from torch.utils.data import Dataset\n",
        "from PIL import Image\n",
        "\n",
        "# Example dataset class\n",
        "class AugmentedImageTextDataset(Dataset):\n",
        "    def __init__(self, data, transform=None):\n",
        "        self.data = data  # Assume data is a list of (image_path, label) tuples\n",
        "        self.transform = transform\n",
        "\n",
        "    def __len__(self):\n",
        "        return len(self.data)\n",
        "\n",
        "    def __getitem__(self, idx):\n",
        "        image, label = self.data[idx]\n",
        "\n",
        "        if self.transform:\n",
        "          image = self.transform(image)\n",
        "        return image, label\n",
        "augmented_train_base = AugmentedImageTextDataset(data = train_base, transform = augmentation_transforms)"
      ],
      "metadata": {
        "id": "6OA3pSfm8QFU"
      },
      "execution_count": 10,
      "outputs": []
    },
    {
      "cell_type": "markdown",
      "source": [
        "## Fine-Tuning of the textual linear layer\n",
        "\n",
        "We fine-tune the last linear layer of the textual encoder for the classification of the base train data."
      ],
      "metadata": {
        "id": "eQPAGfZ9y-8x"
      }
    },
    {
      "cell_type": "code",
      "source": [
        "from torch.utils.data import DataLoader\n",
        "from torch.optim import Adam\n",
        "import torchvision.transforms as transforms\n",
        "\n",
        "def fine_tuning_linear_text(model, train_dataset, val_dataset, categories, lr, batch_size, num_epochs, device):\n",
        "\n",
        "  train_dataloader = torch.utils.data.DataLoader(train_dataset, batch_size=batch_size, shuffle=True, num_workers=2)\n",
        "  val_dataloader = torch.utils.data.DataLoader(val_dataset, batch_size=batch_size, shuffle=False, num_workers=2)\n",
        "\n",
        "  model = model.float()\n",
        "\n",
        "  text_projection = model.text_projection\n",
        "\n",
        "  # Freeze all parameters in the model\n",
        "  for param in model.parameters():\n",
        "      param.requires_grad = False\n",
        "\n",
        "  # Unfreeze the projection layer\n",
        "  text_projection.requires_grad = True\n",
        "\n",
        "  criterion = torch.nn.CrossEntropyLoss()\n",
        "  optimizer = Adam([text_projection], lr=lr)\n",
        "\n",
        "  contig_cat2idx = {cat: idx for idx, cat in enumerate(categories)}\n",
        "\n",
        "  print(\"🧠 Fine-tuning training+validation on Base Classes\")\n",
        "\n",
        "  for epoch in range(num_epochs):\n",
        "\n",
        "    # Training of one epoch\n",
        "\n",
        "    model.train()\n",
        "    # here we store the sum of all the computed losses through the all batches\n",
        "    total_loss = 0\n",
        "    # here we store the number of correct predictions we will make\n",
        "    correct_predictions = 0\n",
        "\n",
        "    for image, target in tqdm(train_dataloader):\n",
        "\n",
        "          target = torch.Tensor([contig_cat2idx[t.item()] for t in target]).long()\n",
        "\n",
        "          image = image.to(device).float()\n",
        "          target = target.to(device)\n",
        "\n",
        "          text_inputs = clip.tokenize(\n",
        "          [f\"a photo of a {CLASS_NAMES[c]}, a type of flower.\" for c in categories]).to(device)\n",
        "\n",
        "          text_features = model.encode_text(text_inputs).float()\n",
        "          # and here we normalize them (standard pratice with CLIP)\n",
        "          text_feature_norm = text_features.norm(dim=-1, keepdim=True)\n",
        "          text_features = text_features/text_feature_norm # per avere norma 1 per calcolare cosine similarity\n",
        "\n",
        "          # forward image through CLIP image encoder\n",
        "          image_features = model.encode_image(image).float()\n",
        "          # and normalize\n",
        "          image_features_norm = image_features.norm(dim=-1, keepdim=True)\n",
        "          image_features = image_features / image_features_norm # per avere norma 1 per calcolare cosine similarity\n",
        "\n",
        "          # here cosine similarity between image and text features and keep the argmax for every row (every image)\n",
        "          logits = image_features @ text_features.T\n",
        "\n",
        "          loss = criterion(logits, target)\n",
        "          total_loss += loss.item()\n",
        "\n",
        "          # Backpropagation\n",
        "          loss.backward()\n",
        "          torch.nn.utils.clip_grad_norm_(model.parameters(), max_norm=1.0)\n",
        "          optimizer.step()\n",
        "          optimizer.zero_grad()\n",
        "\n",
        "          # Training accuracy computation\n",
        "          predicted_class = logits.argmax(dim=-1)\n",
        "          correct_predictions += (predicted_class == target).sum().item()\n",
        "\n",
        "    print(f\"Epoch {epoch + 1}, Training loss: {total_loss/ len(train_dataloader)}; Training accuracy: {correct_predictions / len(train_dataset)*100:.2f}%\")\n",
        "    print()\n",
        "\n",
        "    # Validation of one epoch\n",
        "\n",
        "    model.eval()\n",
        "    total_loss = 0\n",
        "    correct_predictions = 0\n",
        "\n",
        "    for image, target in tqdm(val_dataloader):\n",
        "\n",
        "          target = torch.Tensor([contig_cat2idx[t.item()] for t in target]).long()\n",
        "\n",
        "          image = image.to(device).float()\n",
        "          target = target.to(device)\n",
        "\n",
        "          text_inputs = clip.tokenize(\n",
        "          [f\"a photo of a {CLASS_NAMES[c]}, a type of flower.\" for c in categories]).to(device)\n",
        "\n",
        "          text_features = model.encode_text(text_inputs).float()\n",
        "          # and here we normalize them (standard pratice with CLIP)\n",
        "          text_feature_norm = text_features.norm(dim=-1, keepdim=True)\n",
        "          text_features = text_features/text_feature_norm # per avere norma 1 per calcolare cosine similarity\n",
        "\n",
        "          # forward image through CLIP image encoder\n",
        "          image_features = model.encode_image(image).float()\n",
        "          # and normalize\n",
        "          image_features_norm = image_features.norm(dim=-1, keepdim=True)\n",
        "          image_features = image_features / image_features_norm # per avere norma 1 per calcolare cosine similarity\n",
        "\n",
        "          # here cosine similarity between image and text features and keep the argmax for every row (every image)\n",
        "          logits = image_features @ text_features.T\n",
        "\n",
        "          loss = criterion(logits, target)\n",
        "          total_loss += loss.item()\n",
        "\n",
        "          # Validation accuracy computation\n",
        "          predicted_class = logits.argmax(dim=-1)\n",
        "          correct_predictions += (predicted_class == target).sum().item()\n",
        "\n",
        "    print(f\"Epoch {epoch + 1}, Validation loss: {total_loss/ len(val_dataloader)}; Validation accuracy: {correct_predictions / len(val_dataset)*100:.2f}%\")\n",
        "    print()\n",
        "    print(\"-----------------------------------------------------------------------------------------------\")\n",
        "\n",
        "  return(model)\n",
        "\n",
        "model, _ = clip.load(\"ViT-B/16\", device=device)\n",
        "model_ft_text_layer = fine_tuning_linear_text(model=model, train_dataset=train_base, val_dataset=val_base, categories=base_classes, lr = 0.0001, batch_size=16, num_epochs=10, device=device)"
      ],
      "metadata": {
        "id": "vtwN7HP-w8of"
      },
      "execution_count": null,
      "outputs": []
    },
    {
      "cell_type": "markdown",
      "source": [
        "Then we evaluate the fine-tuned CLIP in both base test set (few-shot evaluation) and novel test set (zero-shot evaluation)."
      ],
      "metadata": {
        "id": "jnmc4AyAzMVh"
      }
    },
    {
      "cell_type": "code",
      "source": [
        "base_accuracy = eval(model=model_ft_text_layer, dataset=test_base, categories=base_classes, batch_size=128, device=device, label=\"🧠 Few-shot evaluation on Base Classes\")\n",
        "novel_accuracy = eval(model=model_ft_text_layer, dataset=test_novel, categories=novel_classes, batch_size=128, device=device, label=\"🧠 Zero-shot evaluation on Novel Classes\")\n",
        "print()\n",
        "print(f\"🔍 Base classes accuracy: {base_accuracy*100:.2f}%\")\n",
        "print(f\"🔍 Novel classes accuracy: {novel_accuracy*100:.2f}%\")"
      ],
      "metadata": {
        "id": "h5podH53zHc7",
        "outputId": "d64f8cef-6aff-4581-c548-70a1eef37494",
        "colab": {
          "base_uri": "https://localhost:8080/"
        }
      },
      "execution_count": null,
      "outputs": [
        {
          "output_type": "stream",
          "name": "stderr",
          "text": [
            "🧠 Few-shot evaluation on Base Classes: 100%|██████████| 20/20 [00:31<00:00,  1.58s/it]\n",
            "🧠 Zero-shot evaluation on Novel Classes: 100%|██████████| 29/29 [00:45<00:00,  1.58s/it]"
          ]
        },
        {
          "output_type": "stream",
          "name": "stdout",
          "text": [
            "\n",
            "🔍 Base classes accuracy: 92.72%\n",
            "🔍 Novel classes accuracy: 63.85%\n"
          ]
        },
        {
          "output_type": "stream",
          "name": "stderr",
          "text": [
            "\n"
          ]
        }
      ]
    },
    {
      "cell_type": "markdown",
      "source": [
        "## Fine-Tuning of the visual linear layer\n",
        "\n",
        "We fine-tune the last linear layer of the visual encoder for the classification of the base train data."
      ],
      "metadata": {
        "id": "RDz9XS0DhxnL"
      }
    },
    {
      "cell_type": "code",
      "execution_count": 35,
      "metadata": {
        "id": "CfzZ1Es-MwF5",
        "colab": {
          "base_uri": "https://localhost:8080/"
        },
        "outputId": "af391033-764b-4212-cb95-0f8ce83aea34"
      },
      "outputs": [
        {
          "output_type": "stream",
          "name": "stdout",
          "text": [
            "🧠 Fine-tuning training+validation on Base Classes\n"
          ]
        },
        {
          "output_type": "stream",
          "name": "stderr",
          "text": [
            "100%|██████████| 32/32 [00:10<00:00,  3.06it/s]\n"
          ]
        },
        {
          "output_type": "stream",
          "name": "stdout",
          "text": [
            "Epoch 1, Training loss: 3.790651358664036; Training accuracy: 59.80%\n",
            "\n"
          ]
        },
        {
          "output_type": "stream",
          "name": "stderr",
          "text": [
            "100%|██████████| 32/32 [00:06<00:00,  4.78it/s]\n"
          ]
        },
        {
          "output_type": "stream",
          "name": "stdout",
          "text": [
            "Epoch 1, Validation loss: 3.725242406129837; Validation accuracy: 66.08%\n",
            "\n",
            "-----------------------------------------------------------------------------------------------\n"
          ]
        },
        {
          "output_type": "stream",
          "name": "stderr",
          "text": [
            "100%|██████████| 32/32 [00:10<00:00,  3.01it/s]\n"
          ]
        },
        {
          "output_type": "stream",
          "name": "stdout",
          "text": [
            "Epoch 2, Training loss: 3.6882917284965515; Training accuracy: 66.27%\n",
            "\n"
          ]
        },
        {
          "output_type": "stream",
          "name": "stderr",
          "text": [
            "100%|██████████| 32/32 [00:06<00:00,  4.68it/s]\n"
          ]
        },
        {
          "output_type": "stream",
          "name": "stdout",
          "text": [
            "Epoch 2, Validation loss: 3.65485817193985; Validation accuracy: 64.71%\n",
            "\n",
            "-----------------------------------------------------------------------------------------------\n"
          ]
        },
        {
          "output_type": "stream",
          "name": "stderr",
          "text": [
            "100%|██████████| 32/32 [00:10<00:00,  3.06it/s]\n"
          ]
        },
        {
          "output_type": "stream",
          "name": "stdout",
          "text": [
            "Epoch 3, Training loss: 3.6258602887392044; Training accuracy: 69.02%\n",
            "\n"
          ]
        },
        {
          "output_type": "stream",
          "name": "stderr",
          "text": [
            "100%|██████████| 32/32 [00:06<00:00,  4.64it/s]\n"
          ]
        },
        {
          "output_type": "stream",
          "name": "stdout",
          "text": [
            "Epoch 3, Validation loss: 3.6084429398179054; Validation accuracy: 69.80%\n",
            "\n",
            "-----------------------------------------------------------------------------------------------\n"
          ]
        },
        {
          "output_type": "stream",
          "name": "stderr",
          "text": [
            "100%|██████████| 32/32 [00:10<00:00,  3.07it/s]\n"
          ]
        },
        {
          "output_type": "stream",
          "name": "stdout",
          "text": [
            "Epoch 4, Training loss: 3.5845402106642723; Training accuracy: 72.16%\n",
            "\n"
          ]
        },
        {
          "output_type": "stream",
          "name": "stderr",
          "text": [
            "100%|██████████| 32/32 [00:06<00:00,  4.77it/s]\n"
          ]
        },
        {
          "output_type": "stream",
          "name": "stdout",
          "text": [
            "Epoch 4, Validation loss: 3.5801325887441635; Validation accuracy: 72.16%\n",
            "\n",
            "-----------------------------------------------------------------------------------------------\n"
          ]
        },
        {
          "output_type": "stream",
          "name": "stderr",
          "text": [
            "100%|██████████| 32/32 [00:10<00:00,  3.01it/s]\n"
          ]
        },
        {
          "output_type": "stream",
          "name": "stdout",
          "text": [
            "Epoch 5, Training loss: 3.557850882411003; Training accuracy: 77.45%\n",
            "\n"
          ]
        },
        {
          "output_type": "stream",
          "name": "stderr",
          "text": [
            "100%|██████████| 32/32 [00:06<00:00,  4.69it/s]\n"
          ]
        },
        {
          "output_type": "stream",
          "name": "stdout",
          "text": [
            "Epoch 5, Validation loss: 3.563461385667324; Validation accuracy: 75.69%\n",
            "\n",
            "-----------------------------------------------------------------------------------------------\n"
          ]
        },
        {
          "output_type": "stream",
          "name": "stderr",
          "text": [
            "100%|██████████| 32/32 [00:10<00:00,  3.07it/s]\n"
          ]
        },
        {
          "output_type": "stream",
          "name": "stdout",
          "text": [
            "Epoch 6, Training loss: 3.539683297276497; Training accuracy: 79.80%\n",
            "\n"
          ]
        },
        {
          "output_type": "stream",
          "name": "stderr",
          "text": [
            "100%|██████████| 32/32 [00:06<00:00,  4.76it/s]\n"
          ]
        },
        {
          "output_type": "stream",
          "name": "stdout",
          "text": [
            "Epoch 6, Validation loss: 3.5507016256451607; Validation accuracy: 78.82%\n",
            "\n",
            "-----------------------------------------------------------------------------------------------\n"
          ]
        },
        {
          "output_type": "stream",
          "name": "stderr",
          "text": [
            "100%|██████████| 32/32 [00:10<00:00,  3.02it/s]\n"
          ]
        },
        {
          "output_type": "stream",
          "name": "stdout",
          "text": [
            "Epoch 7, Training loss: 3.5259086713194847; Training accuracy: 82.94%\n",
            "\n"
          ]
        },
        {
          "output_type": "stream",
          "name": "stderr",
          "text": [
            "100%|██████████| 32/32 [00:06<00:00,  4.70it/s]\n"
          ]
        },
        {
          "output_type": "stream",
          "name": "stdout",
          "text": [
            "Epoch 7, Validation loss: 3.542603984475136; Validation accuracy: 79.61%\n",
            "\n",
            "-----------------------------------------------------------------------------------------------\n"
          ]
        },
        {
          "output_type": "stream",
          "name": "stderr",
          "text": [
            "100%|██████████| 32/32 [00:10<00:00,  3.05it/s]\n"
          ]
        },
        {
          "output_type": "stream",
          "name": "stdout",
          "text": [
            "Epoch 8, Training loss: 3.5160906985402107; Training accuracy: 85.49%\n",
            "\n"
          ]
        },
        {
          "output_type": "stream",
          "name": "stderr",
          "text": [
            "100%|██████████| 32/32 [00:07<00:00,  4.45it/s]\n"
          ]
        },
        {
          "output_type": "stream",
          "name": "stdout",
          "text": [
            "Epoch 8, Validation loss: 3.535880498588085; Validation accuracy: 81.76%\n",
            "\n",
            "-----------------------------------------------------------------------------------------------\n"
          ]
        },
        {
          "output_type": "stream",
          "name": "stderr",
          "text": [
            "100%|██████████| 32/32 [00:10<00:00,  3.06it/s]\n"
          ]
        },
        {
          "output_type": "stream",
          "name": "stdout",
          "text": [
            "Epoch 9, Training loss: 3.506799131631851; Training accuracy: 87.84%\n",
            "\n"
          ]
        },
        {
          "output_type": "stream",
          "name": "stderr",
          "text": [
            "100%|██████████| 32/32 [00:06<00:00,  4.78it/s]\n"
          ]
        },
        {
          "output_type": "stream",
          "name": "stdout",
          "text": [
            "Epoch 9, Validation loss: 3.529811806976795; Validation accuracy: 84.51%\n",
            "\n",
            "-----------------------------------------------------------------------------------------------\n"
          ]
        },
        {
          "output_type": "stream",
          "name": "stderr",
          "text": [
            "100%|██████████| 32/32 [00:10<00:00,  3.06it/s]\n"
          ]
        },
        {
          "output_type": "stream",
          "name": "stdout",
          "text": [
            "Epoch 10, Training loss: 3.498573310673237; Training accuracy: 89.80%\n",
            "\n"
          ]
        },
        {
          "output_type": "stream",
          "name": "stderr",
          "text": [
            "100%|██████████| 32/32 [00:06<00:00,  4.68it/s]"
          ]
        },
        {
          "output_type": "stream",
          "name": "stdout",
          "text": [
            "Epoch 10, Validation loss: 3.525186665356159; Validation accuracy: 86.08%\n",
            "\n",
            "-----------------------------------------------------------------------------------------------\n"
          ]
        },
        {
          "output_type": "stream",
          "name": "stderr",
          "text": [
            "\n"
          ]
        }
      ],
      "source": [
        "from torch.utils.data import DataLoader\n",
        "from torch.optim import Adam\n",
        "import torchvision.transforms as transforms\n",
        "\n",
        "def fine_tuning_linear_visual(model, train_dataset, val_dataset, categories, lr, batch_size, num_epochs, device):\n",
        "\n",
        "  train_dataloader = torch.utils.data.DataLoader(train_dataset, batch_size=batch_size, shuffle=True, num_workers=2)\n",
        "  val_dataloader = torch.utils.data.DataLoader(val_dataset, batch_size=batch_size, shuffle=False, num_workers=2)\n",
        "\n",
        "  model = model.float()\n",
        "\n",
        "  visual_projection = model.visual.proj\n",
        "  text_projection = model.text_projection\n",
        "\n",
        "  # Freeze all parameters in the model\n",
        "  for param in model.parameters():\n",
        "      param.requires_grad = False\n",
        "\n",
        "  # Unfreeze the projection layer\n",
        "  visual_projection.requires_grad = True\n",
        "  #text_projection.requires_grad = True\n",
        "\n",
        "  criterion = torch.nn.CrossEntropyLoss()\n",
        "  optimizer = Adam([visual_projection], lr=lr)\n",
        "\n",
        "  contig_cat2idx = {cat: idx for idx, cat in enumerate(categories)}\n",
        "\n",
        "\n",
        "\n",
        "  print(\"🧠 Fine-tuning training+validation on Base Classes\")\n",
        "\n",
        "  for epoch in range(num_epochs):\n",
        "\n",
        "    # Training of one epoch\n",
        "\n",
        "    model.train()\n",
        "    # here we store the sum of all the computed losses through the all batches\n",
        "    total_loss = 0\n",
        "    # here we store the number of correct predictions we will make\n",
        "    correct_predictions = 0\n",
        "\n",
        "    for image, target in tqdm(train_dataloader):\n",
        "          text_inputs = clip.tokenize(\n",
        "          [f\"a photo of a {CLASS_NAMES[c]}, a type of flower.\" for c in categories]).to(device)\n",
        "\n",
        "          text_features = model.encode_text(text_inputs).float()\n",
        "          # and here we normalize them (standard pratice with CLIP)\n",
        "          text_feature_norm = text_features.norm(dim=-1, keepdim=True)\n",
        "          text_features = text_features/text_feature_norm # per avere norma 1 per calcolare cosine similarity\n",
        "\n",
        "          target = torch.Tensor([contig_cat2idx[t.item()] for t in target]).long()\n",
        "\n",
        "          image = image.to(device).float()\n",
        "          target = target.to(device)\n",
        "\n",
        "          # forward image through CLIP image encoder\n",
        "          image_features = model.encode_image(image).float()\n",
        "          # and normalize\n",
        "          image_features_norm = image_features.norm(dim=-1, keepdim=True)\n",
        "          image_features = image_features / image_features_norm # per avere norma 1 per calcolare cosine similarity\n",
        "\n",
        "          # here cosine similarity between image and text features and keep the argmax for every row (every image)\n",
        "          logits = image_features @ text_features.T\n",
        "\n",
        "          loss = criterion(logits, target)\n",
        "          total_loss += loss.item()\n",
        "\n",
        "          # Backpropagation\n",
        "          loss.backward()\n",
        "          torch.nn.utils.clip_grad_norm_(model.parameters(), max_norm=1.0)\n",
        "          optimizer.step()\n",
        "          optimizer.zero_grad()\n",
        "\n",
        "          # Training accuracy computation\n",
        "          predicted_class = logits.argmax(dim=-1)\n",
        "          correct_predictions += (predicted_class == target).sum().item()\n",
        "\n",
        "    print(f\"Epoch {epoch + 1}, Training loss: {total_loss/ len(train_dataloader)}; Training accuracy: {correct_predictions / len(train_dataset)*100:.2f}%\")\n",
        "    print()\n",
        "\n",
        "    # Validation of one epoch\n",
        "\n",
        "    model.eval()\n",
        "    total_loss = 0\n",
        "    correct_predictions = 0\n",
        "\n",
        "    for image, target in tqdm(val_dataloader):\n",
        "\n",
        "          target = torch.Tensor([contig_cat2idx[t.item()] for t in target]).long()\n",
        "\n",
        "          image = image.to(device).float()\n",
        "          target = target.to(device)\n",
        "\n",
        "          # forward image through CLIP image encoder\n",
        "          image_features = model.encode_image(image).float()\n",
        "          # and normalize\n",
        "          image_features_norm = image_features.norm(dim=-1, keepdim=True)\n",
        "          image_features = image_features / image_features_norm # per avere norma 1 per calcolare cosine similarity\n",
        "\n",
        "          # here cosine similarity between image and text features and keep the argmax for every row (every image)\n",
        "          logits = image_features @ text_features.T\n",
        "\n",
        "          loss = criterion(logits, target)\n",
        "          total_loss += loss.item()\n",
        "\n",
        "          # Validation accuracy computation\n",
        "          predicted_class = logits.argmax(dim=-1)\n",
        "          correct_predictions += (predicted_class == target).sum().item()\n",
        "\n",
        "    print(f\"Epoch {epoch + 1}, Validation loss: {total_loss/ len(val_dataloader)}; Validation accuracy: {correct_predictions / len(val_dataset)*100:.2f}%\")\n",
        "    print()\n",
        "    print(\"-----------------------------------------------------------------------------------------------\")\n",
        "\n",
        "  return(model)\n",
        "\n",
        "model, _ = clip.load(\"ViT-B/16\", device=device)\n",
        "model_ft_visual_layer = fine_tuning_linear_visual(model=model, train_dataset=train_base, val_dataset=val_base, categories=base_classes, lr = 0.0001, batch_size=16, num_epochs=10, device=device)\n"
      ]
    },
    {
      "cell_type": "markdown",
      "source": [
        "Then we evaluate the fine-tuned CLIP in both base test set (few-shot evaluation) and novel test set (zero-shot evaluation)."
      ],
      "metadata": {
        "id": "xzrUWPcwu00p"
      }
    },
    {
      "cell_type": "code",
      "source": [
        "base_accuracy = eval(model=model_ft_visual_layer, dataset=test_base, categories=base_classes, batch_size=128, device=device, label=\"🧠 Few-shot evaluation on Base Classes\")\n",
        "novel_accuracy = eval(model=model_ft_visual_layer, dataset=test_novel, categories=novel_classes, batch_size=128, device=device, label=\"🧠 Zero-shot evaluation on Novel Classes\")\n",
        "print()\n",
        "print(f\"🔍 Base classes accuracy: {base_accuracy*100:.2f}%\")\n",
        "print(f\"🔍 Novel classes accuracy: {novel_accuracy*100:.2f}%\")"
      ],
      "metadata": {
        "id": "h1Xyn8_hldt5",
        "colab": {
          "base_uri": "https://localhost:8080/"
        },
        "outputId": "584ac309-b21a-493e-acbd-fccfdf4eb201"
      },
      "execution_count": 36,
      "outputs": [
        {
          "output_type": "stream",
          "name": "stderr",
          "text": [
            "🧠 Few-shot evaluation on Base Classes: 100%|██████████| 20/20 [00:32<00:00,  1.64s/it]\n",
            "🧠 Zero-shot evaluation on Novel Classes: 100%|██████████| 29/29 [00:43<00:00,  1.50s/it]"
          ]
        },
        {
          "output_type": "stream",
          "name": "stdout",
          "text": [
            "\n",
            "🔍 Base classes accuracy: 83.78%\n",
            "🔍 Novel classes accuracy: 52.18%\n"
          ]
        },
        {
          "output_type": "stream",
          "name": "stderr",
          "text": [
            "\n"
          ]
        }
      ]
    },
    {
      "cell_type": "markdown",
      "source": [
        "# Using CLIP original loss"
      ],
      "metadata": {
        "id": "mY4XTSFHxDyr"
      }
    },
    {
      "cell_type": "code",
      "source": [
        "from torch.utils.data import DataLoader, Dataset, Sampler\n",
        "from collections import defaultdict\n",
        "import random\n",
        "\n",
        "class DiverseClassSampler(Sampler):\n",
        "    def __init__(self, dataset, batch_size=16):\n",
        "        self.dataset = dataset\n",
        "        self.batch_size = batch_size\n",
        "        self.class_to_indices = defaultdict(list)\n",
        "\n",
        "        # Mappa da classe a indici\n",
        "        for idx in range(len(dataset)):\n",
        "            _, label = dataset[idx]\n",
        "            self.class_to_indices[label].append(idx)\n",
        "\n",
        "        self.classes = list(self.class_to_indices.keys())\n",
        "        assert len(self.classes) >= batch_size, \"Non ci sono abbastanza classi per formare un batch con classi diverse.\"\n",
        "\n",
        "    def __iter__(self):\n",
        "        # Cloniamo gli indici per evitare di esaurirli prematuramente\n",
        "        class_to_indices = {cls: indices.copy() for cls, indices in self.class_to_indices.items()}\n",
        "\n",
        "        while True:\n",
        "            # Scegliamo `batch_size` classi distinte casuali\n",
        "            available_classes = [cls for cls in class_to_indices if len(class_to_indices[cls]) > 0]\n",
        "            if len(available_classes) < self.batch_size:\n",
        "                break  # non possiamo più formare un batch valido\n",
        "\n",
        "            selected_classes = random.sample(available_classes, self.batch_size)\n",
        "            batch = []\n",
        "\n",
        "            for cls in selected_classes:\n",
        "                idx = class_to_indices[cls].pop()\n",
        "                batch.append(idx)\n",
        "\n",
        "            yield batch\n",
        "\n",
        "    def __len__(self):\n",
        "        # Numero massimo di batch che possiamo generare\n",
        "        total = sum(len(idxs) for idxs in self.class_to_indices.values())\n",
        "        return total // self.batch_size\n",
        "\n",
        "# Esempio di utilizzo:\n",
        "batch_size = 16\n",
        "train_sampler = DiverseClassSampler(train_base, batch_size=16)\n",
        "train_dataloader = DataLoader(train_base, batch_sampler=train_sampler, num_workers=2)"
      ],
      "metadata": {
        "id": "PQlzc3mxeWam"
      },
      "execution_count": 12,
      "outputs": []
    },
    {
      "cell_type": "code",
      "source": [
        "from torch.utils.data import DataLoader\n",
        "from torch.optim import Adam\n",
        "import torchvision.transforms as transforms\n",
        "\n",
        "temperature = 0.07\n",
        "\n",
        "def fine_tuning_linear_visual(model, train_dataset, val_dataset, categories, lr, batch_size, num_epochs, device):\n",
        "\n",
        "  train_sampler = DiverseClassSampler(train_dataset, batch_size=batch_size)\n",
        "  train_dataloader = DataLoader(train_dataset, batch_sampler=train_sampler, num_workers=2)\n",
        "\n",
        "  #train_dataloader = torch.utils.data.DataLoader(train_dataset, batch_size=batch_size, shuffle=True, num_workers=2)\n",
        "  val_dataloader = torch.utils.data.DataLoader(val_dataset, batch_size=batch_size, shuffle=False, num_workers=2)\n",
        "\n",
        "  model = model.float()\n",
        "\n",
        "  visual_projection = model.visual.proj\n",
        "  text_projection = model.text_projection\n",
        "\n",
        "  # Freeze all parameters in the model\n",
        "  for param in model.parameters():\n",
        "      param.requires_grad = False\n",
        "\n",
        "  # Unfreeze the projection layer\n",
        "  visual_projection.requires_grad = True\n",
        "  #text_projection.requires_grad = True\n",
        "\n",
        "  criterion = torch.nn.CrossEntropyLoss()\n",
        "  optimizer = Adam([visual_projection], lr=lr)\n",
        "\n",
        "  contig_cat2idx = {cat: idx for idx, cat in enumerate(categories)}\n",
        "\n",
        "\n",
        "  print(\"🧠 Fine-tuning training+validation on Base Classes\")\n",
        "\n",
        "  for epoch in range(num_epochs):\n",
        "\n",
        "    # Training of one epoch\n",
        "\n",
        "    model.train()\n",
        "    # here we store the sum of all the computed losses through the all batches\n",
        "    total_loss = 0\n",
        "    # here we store the number of correct predictions we will make\n",
        "    correct_predictions = 0\n",
        "\n",
        "    for image, target in tqdm(train_dataloader):\n",
        "          text_inputs = clip.tokenize(\n",
        "          [f\"a photo of a {CLASS_NAMES[c]}, a type of flower.\" for c in target]).to(device)\n",
        "\n",
        "          text_features = model.encode_text(text_inputs).float()\n",
        "          # and here we normalize them (standard pratice with CLIP)\n",
        "          text_feature_norm = text_features.norm(dim=-1, keepdim=True)\n",
        "          text_features = text_features/text_feature_norm # per avere norma 1 per calcolare cosine similarity\n",
        "\n",
        "\n",
        "          target = torch.arange(len(target))\n",
        "\n",
        "          image = image.to(device).float()\n",
        "          target = target.to(device)\n",
        "\n",
        "          # forward image through CLIP image encoder\n",
        "          image_features = model.encode_image(image).float()\n",
        "          # and normalize\n",
        "          image_features_norm = image_features.norm(dim=-1, keepdim=True)\n",
        "          image_features = image_features / image_features_norm # per avere norma 1 per calcolare cosine similarity\n",
        "\n",
        "          # here cosine similarity between image and text features and keep the argmax for every row (every image)\n",
        "          logits = (image_features @ text_features.T) / torch.tensor([temperature]).to(device)\n",
        "\n",
        "          loss = (criterion(logits, target) +criterion(logits.T, target))/2\n",
        "          total_loss += loss.item()\n",
        "\n",
        "          # Backpropagation\n",
        "          loss.backward()\n",
        "          torch.nn.utils.clip_grad_norm_(model.parameters(), max_norm=1.0)\n",
        "          optimizer.step()\n",
        "          optimizer.zero_grad()\n",
        "\n",
        "          # Training accuracy computation\n",
        "          predicted_class = logits.argmax(dim=-1)\n",
        "          correct_predictions += (predicted_class == target).sum().item()\n",
        "\n",
        "    print(f\"Epoch {epoch + 1}, Training loss: {total_loss/ len(train_dataloader)}; Training accuracy: {correct_predictions / len(train_dataset)*100:.2f}%\")\n",
        "    print()\n",
        "\n",
        "    # Validation of one epoch\n",
        "\n",
        "    model.eval()\n",
        "    total_loss = 0\n",
        "    correct_predictions = 0\n",
        "\n",
        "    for image, target in tqdm(val_dataloader):\n",
        "          text_inputs = clip.tokenize(\n",
        "          [f\"a photo of a {CLASS_NAMES[c]}, a type of flower.\" for c in categories]).to(device)\n",
        "\n",
        "          text_features = model.encode_text(text_inputs).float()\n",
        "          # and here we normalize them (standard pratice with CLIP)\n",
        "          text_feature_norm = text_features.norm(dim=-1, keepdim=True)\n",
        "          text_features = text_features/text_feature_norm # per avere norma 1 per calcolare cosine similarity\n",
        "\n",
        "          target = torch.Tensor([contig_cat2idx[t.item()] for t in target]).long()\n",
        "\n",
        "          image = image.to(device).float()\n",
        "          target = target.to(device)\n",
        "\n",
        "          # forward image through CLIP image encoder\n",
        "          image_features = model.encode_image(image).float()\n",
        "          # and normalize\n",
        "          image_features_norm = image_features.norm(dim=-1, keepdim=True)\n",
        "          image_features = image_features / image_features_norm # per avere norma 1 per calcolare cosine similarity\n",
        "\n",
        "          # here cosine similarity between image and text features and keep the argmax for every row (every image)\n",
        "          logits = image_features @ text_features.T\n",
        "\n",
        "          loss = criterion(logits, target)\n",
        "          total_loss += loss.item()\n",
        "\n",
        "          # Validation accuracy computation\n",
        "          predicted_class = logits.argmax(dim=-1)\n",
        "          correct_predictions += (predicted_class == target).sum().item()\n",
        "\n",
        "    print(f\"Epoch {epoch + 1}, Validation loss: {total_loss/ len(val_dataloader)}; Validation accuracy: {correct_predictions / len(val_dataset)*100:.2f}%\")\n",
        "    print()\n",
        "    print(\"-----------------------------------------------------------------------------------------------\")\n",
        "\n",
        "  return(model)\n",
        "\n",
        "model, _ = clip.load(\"ViT-B/16\", device=device)\n",
        "model_ft_visual_layer = fine_tuning_linear_visual(model=model, train_dataset=train_base, val_dataset=val_base, categories=base_classes, lr = 0.0001, batch_size=16, num_epochs=10, device=device)\n"
      ],
      "metadata": {
        "id": "ZKAQ6HtQxBkn",
        "outputId": "497a3e8d-205b-4fb4-aa4b-a2e3f4d69d12",
        "colab": {
          "base_uri": "https://localhost:8080/"
        }
      },
      "execution_count": 13,
      "outputs": [
        {
          "output_type": "stream",
          "name": "stdout",
          "text": [
            "🧠 Fine-tuning training+validation on Base Classes\n"
          ]
        },
        {
          "output_type": "stream",
          "name": "stderr",
          "text": [
            " 97%|█████████▋| 30/31 [00:08<00:00,  3.39it/s]\n"
          ]
        },
        {
          "output_type": "stream",
          "name": "stdout",
          "text": [
            "Epoch 1, Training loss: 1.2308685741116923; Training accuracy: 78.04%\n",
            "\n"
          ]
        },
        {
          "output_type": "stream",
          "name": "stderr",
          "text": [
            "100%|██████████| 32/32 [00:09<00:00,  3.43it/s]\n"
          ]
        },
        {
          "output_type": "stream",
          "name": "stdout",
          "text": [
            "Epoch 1, Validation loss: 3.731471262872219; Validation accuracy: 76.67%\n",
            "\n",
            "-----------------------------------------------------------------------------------------------\n"
          ]
        },
        {
          "output_type": "stream",
          "name": "stderr",
          "text": [
            "100%|██████████| 31/31 [00:06<00:00,  4.49it/s]\n"
          ]
        },
        {
          "output_type": "stream",
          "name": "stdout",
          "text": [
            "Epoch 2, Training loss: 0.7182812286961463; Training accuracy: 89.61%\n",
            "\n"
          ]
        },
        {
          "output_type": "stream",
          "name": "stderr",
          "text": [
            "100%|██████████| 32/32 [00:09<00:00,  3.36it/s]\n"
          ]
        },
        {
          "output_type": "stream",
          "name": "stdout",
          "text": [
            "Epoch 2, Validation loss: 3.6704986840486526; Validation accuracy: 89.02%\n",
            "\n",
            "-----------------------------------------------------------------------------------------------\n"
          ]
        },
        {
          "output_type": "stream",
          "name": "stderr",
          "text": [
            "100%|██████████| 31/31 [00:07<00:00,  4.23it/s]\n"
          ]
        },
        {
          "output_type": "stream",
          "name": "stdout",
          "text": [
            "Epoch 3, Training loss: 0.4406678580468701; Training accuracy: 95.49%\n",
            "\n"
          ]
        },
        {
          "output_type": "stream",
          "name": "stderr",
          "text": [
            "100%|██████████| 32/32 [00:09<00:00,  3.28it/s]\n"
          ]
        },
        {
          "output_type": "stream",
          "name": "stdout",
          "text": [
            "Epoch 3, Validation loss: 3.631141297519207; Validation accuracy: 93.53%\n",
            "\n",
            "-----------------------------------------------------------------------------------------------\n"
          ]
        },
        {
          "output_type": "stream",
          "name": "stderr",
          "text": [
            "100%|██████████| 31/31 [00:07<00:00,  4.19it/s]\n"
          ]
        },
        {
          "output_type": "stream",
          "name": "stdout",
          "text": [
            "Epoch 4, Training loss: 0.2928214967250824; Training accuracy: 96.27%\n",
            "\n"
          ]
        },
        {
          "output_type": "stream",
          "name": "stderr",
          "text": [
            "100%|██████████| 32/32 [00:09<00:00,  3.29it/s]\n"
          ]
        },
        {
          "output_type": "stream",
          "name": "stdout",
          "text": [
            "Epoch 4, Validation loss: 3.603091910481453; Validation accuracy: 95.10%\n",
            "\n",
            "-----------------------------------------------------------------------------------------------\n"
          ]
        },
        {
          "output_type": "stream",
          "name": "stderr",
          "text": [
            " 97%|█████████▋| 30/31 [00:07<00:00,  4.26it/s]\n"
          ]
        },
        {
          "output_type": "stream",
          "name": "stdout",
          "text": [
            "Epoch 5, Training loss: 0.21171754334242113; Training accuracy: 93.33%\n",
            "\n"
          ]
        },
        {
          "output_type": "stream",
          "name": "stderr",
          "text": [
            "100%|██████████| 32/32 [00:10<00:00,  3.15it/s]\n"
          ]
        },
        {
          "output_type": "stream",
          "name": "stdout",
          "text": [
            "Epoch 5, Validation loss: 3.587008975446224; Validation accuracy: 96.47%\n",
            "\n",
            "-----------------------------------------------------------------------------------------------\n"
          ]
        },
        {
          "output_type": "stream",
          "name": "stderr",
          "text": [
            "100%|██████████| 31/31 [00:07<00:00,  3.99it/s]\n"
          ]
        },
        {
          "output_type": "stream",
          "name": "stdout",
          "text": [
            "Epoch 6, Training loss: 0.16793609434558499; Training accuracy: 97.06%\n",
            "\n"
          ]
        },
        {
          "output_type": "stream",
          "name": "stderr",
          "text": [
            "100%|██████████| 32/32 [00:10<00:00,  3.15it/s]\n"
          ]
        },
        {
          "output_type": "stream",
          "name": "stdout",
          "text": [
            "Epoch 6, Validation loss: 3.5778886303305626; Validation accuracy: 95.88%\n",
            "\n",
            "-----------------------------------------------------------------------------------------------\n"
          ]
        },
        {
          "output_type": "stream",
          "name": "stderr",
          "text": [
            " 97%|█████████▋| 30/31 [00:07<00:00,  4.12it/s]\n"
          ]
        },
        {
          "output_type": "stream",
          "name": "stdout",
          "text": [
            "Epoch 7, Training loss: 0.1403217789146208; Training accuracy: 93.73%\n",
            "\n"
          ]
        },
        {
          "output_type": "stream",
          "name": "stderr",
          "text": [
            "100%|██████████| 32/32 [00:10<00:00,  3.06it/s]\n"
          ]
        },
        {
          "output_type": "stream",
          "name": "stdout",
          "text": [
            "Epoch 7, Validation loss: 3.5746455416083336; Validation accuracy: 95.49%\n",
            "\n",
            "-----------------------------------------------------------------------------------------------\n"
          ]
        },
        {
          "output_type": "stream",
          "name": "stderr",
          "text": [
            "100%|██████████| 31/31 [00:07<00:00,  3.94it/s]\n"
          ]
        },
        {
          "output_type": "stream",
          "name": "stdout",
          "text": [
            "Epoch 8, Training loss: 0.12695604971339625; Training accuracy: 97.25%\n",
            "\n"
          ]
        },
        {
          "output_type": "stream",
          "name": "stderr",
          "text": [
            "100%|██████████| 32/32 [00:10<00:00,  3.14it/s]\n"
          ]
        },
        {
          "output_type": "stream",
          "name": "stdout",
          "text": [
            "Epoch 8, Validation loss: 3.568506859242916; Validation accuracy: 96.27%\n",
            "\n",
            "-----------------------------------------------------------------------------------------------\n"
          ]
        },
        {
          "output_type": "stream",
          "name": "stderr",
          "text": [
            " 97%|█████████▋| 30/31 [00:07<00:00,  3.96it/s]\n"
          ]
        },
        {
          "output_type": "stream",
          "name": "stdout",
          "text": [
            "Epoch 9, Training loss: 0.10307196143173403; Training accuracy: 94.12%\n",
            "\n"
          ]
        },
        {
          "output_type": "stream",
          "name": "stderr",
          "text": [
            "100%|██████████| 32/32 [00:10<00:00,  3.14it/s]\n"
          ]
        },
        {
          "output_type": "stream",
          "name": "stdout",
          "text": [
            "Epoch 9, Validation loss: 3.5649378672242165; Validation accuracy: 96.08%\n",
            "\n",
            "-----------------------------------------------------------------------------------------------\n"
          ]
        },
        {
          "output_type": "stream",
          "name": "stderr",
          "text": [
            "100%|██████████| 31/31 [00:07<00:00,  4.10it/s]\n"
          ]
        },
        {
          "output_type": "stream",
          "name": "stdout",
          "text": [
            "Epoch 10, Training loss: 0.09837133076883131; Training accuracy: 97.25%\n",
            "\n"
          ]
        },
        {
          "output_type": "stream",
          "name": "stderr",
          "text": [
            "100%|██████████| 32/32 [00:10<00:00,  3.12it/s]"
          ]
        },
        {
          "output_type": "stream",
          "name": "stdout",
          "text": [
            "Epoch 10, Validation loss: 3.561771333217621; Validation accuracy: 96.47%\n",
            "\n",
            "-----------------------------------------------------------------------------------------------\n"
          ]
        },
        {
          "output_type": "stream",
          "name": "stderr",
          "text": [
            "\n"
          ]
        }
      ]
    },
    {
      "cell_type": "code",
      "source": [
        "base_accuracy = eval(model=model_ft_visual_layer, dataset=test_base, categories=base_classes, batch_size=128, device=device, label=\"🧠 Few-shot evaluation on Base Classes\")\n",
        "novel_accuracy = eval(model=model_ft_visual_layer, dataset=test_novel, categories=novel_classes, batch_size=128, device=device, label=\"🧠 Zero-shot evaluation on Novel Classes\")\n",
        "print()\n",
        "print(f\"🔍 Base classes accuracy: {base_accuracy*100:.2f}%\")\n",
        "print(f\"🔍 Novel classes accuracy: {novel_accuracy*100:.2f}%\")"
      ],
      "metadata": {
        "id": "PKYSPNnjzRIc",
        "outputId": "8ec7ff73-eae0-437c-d606-dd58af53b72b",
        "colab": {
          "base_uri": "https://localhost:8080/"
        }
      },
      "execution_count": 14,
      "outputs": [
        {
          "output_type": "stream",
          "name": "stderr",
          "text": [
            "🧠 Few-shot evaluation on Base Classes: 100%|██████████| 20/20 [00:30<00:00,  1.52s/it]\n",
            "🧠 Zero-shot evaluation on Novel Classes: 100%|██████████| 29/29 [00:43<00:00,  1.49s/it]"
          ]
        },
        {
          "output_type": "stream",
          "name": "stdout",
          "text": [
            "\n",
            "🔍 Base classes accuracy: 94.90%\n",
            "🔍 Novel classes accuracy: 59.09%\n"
          ]
        },
        {
          "output_type": "stream",
          "name": "stderr",
          "text": [
            "\n"
          ]
        }
      ]
    },
    {
      "cell_type": "code",
      "source": [
        "train_dataloader = torch.utils.data.DataLoader(train_base, batch_size=16, shuffle=True, num_workers=2)\n",
        "contig_cat2idx = {cat: idx for idx, cat in enumerate(base_classes)}\n",
        "for image, target in train_dataloader:\n",
        "  print(target)\n",
        "  print(torch.Tensor([contig_cat2idx[t.item()] for t in target]).long())\n",
        "  break"
      ],
      "metadata": {
        "id": "uqGlDM4tipSL",
        "outputId": "f27d2fb5-ec1d-4e24-f00a-db4d03946bde",
        "colab": {
          "base_uri": "https://localhost:8080/"
        }
      },
      "execution_count": 17,
      "outputs": [
        {
          "output_type": "stream",
          "name": "stdout",
          "text": [
            "tensor([29,  9, 23,  5, 32,  4, 20,  6, 42, 46, 11, 49,  7,  0, 35, 44])\n",
            "tensor([29,  9, 23,  5, 32,  4, 20,  6, 42, 46, 11, 49,  7,  0, 35, 44])\n"
          ]
        }
      ]
    },
    {
      "cell_type": "markdown",
      "source": [
        "# Distillation Loss"
      ],
      "metadata": {
        "id": "NGbDFyajgUu2"
      }
    },
    {
      "cell_type": "markdown",
      "source": [
        "I do visual linear layer fine-tuning using discriminative loss + distillation loss."
      ],
      "metadata": {
        "id": "c06zTqgAhUEV"
      }
    },
    {
      "cell_type": "code",
      "source": [
        "from torch.utils.data import DataLoader\n",
        "from torch.optim import Adam\n",
        "import torchvision.transforms as transforms\n",
        "\n",
        "def fine_tuning_linear_visual(model, train_dataset, val_dataset, categories, lr, batch_size, num_epochs, device):\n",
        "\n",
        "  const = 4000\n",
        "\n",
        "  train_dataloader = torch.utils.data.DataLoader(train_dataset, batch_size=batch_size, shuffle=True, num_workers=2)\n",
        "  val_dataloader = torch.utils.data.DataLoader(val_dataset, batch_size=batch_size, shuffle=False, num_workers=2)\n",
        "\n",
        "  model = model.float()\n",
        "\n",
        "  visual_projection = model.visual.proj\n",
        "  text_projection = model.text_projection\n",
        "\n",
        "  # Freeze all parameters in the model\n",
        "  for param in model.parameters():\n",
        "      param.requires_grad = False\n",
        "\n",
        "  # Unfreeze the projection layer\n",
        "  visual_projection.requires_grad = True\n",
        "  #text_projection.requires_grad = True\n",
        "\n",
        "  criterion = torch.nn.CrossEntropyLoss()\n",
        "  optimizer = Adam([visual_projection], lr=lr)\n",
        "\n",
        "  contig_cat2idx = {cat: idx for idx, cat in enumerate(categories)}\n",
        "\n",
        "  text_inputs = clip.tokenize(\n",
        "          [f\"a photo of a {CLASS_NAMES[c]}, a type of flower.\" for c in categories]).to(device)\n",
        "  text_features = model.encode_text(text_inputs).float()\n",
        "  text_features = model.encode_text(text_inputs).float()\n",
        "          # and here we normalize them (standard pratice with CLIP)\n",
        "  text_feature_norm = text_features.norm(dim=-1, keepdim=True)\n",
        "  text_features = text_features/text_feature_norm # per avere norma 1 per calcolare cosine similarity\n",
        "\n",
        "\n",
        "  # Frozen Visual Linear Layer for computing distillation loss\n",
        "\n",
        "  import copy\n",
        "  # Crea una copia indipendente del modello CLIP originale\n",
        "  frozen_model = copy.deepcopy(model).eval().to(device)\n",
        "  frozen_visual_projection = frozen_model.visual.proj\n",
        "\n",
        "\n",
        "  print(\"🧠 Fine-tuning training+validation on Base Classes\")\n",
        "\n",
        "  for epoch in range(num_epochs):\n",
        "\n",
        "    # Training of one epoch\n",
        "\n",
        "    model.train()\n",
        "    # here we store the sum of all the computed losses through the all batches\n",
        "    total_loss = 0\n",
        "    # here we store the number of correct predictions we will make\n",
        "    correct_predictions = 0\n",
        "\n",
        "    for image, target in tqdm(train_dataloader):\n",
        "\n",
        "          target = torch.Tensor([contig_cat2idx[t.item()] for t in target]).long() # utile solo con novel classes\n",
        "\n",
        "          image = image.to(device).float()\n",
        "          target = target.to(device)\n",
        "\n",
        "          # forward image through CLIP image encoder\n",
        "          image_features = model.encode_image(image).float()\n",
        "          # and normalize\n",
        "          image_features_norm = image_features.norm(dim=-1, keepdim=True)\n",
        "          image_features = image_features / image_features_norm # per avere norma 1 per calcolare cosine similarity\n",
        "\n",
        "          # here cosine similarity between image and text features and keep the argmax for every row (every image)\n",
        "          logits = image_features @ text_features.T\n",
        "\n",
        "          # discriminative logits also for the frozen CLIP => compute distillation loss\n",
        "          with torch.no_grad(): # Ensure no gradients are computed for the frozen model\n",
        "           frozen_image_features = frozen_model.encode_image(image).float()\n",
        "           frozen_image_features = frozen_image_features / frozen_image_features.norm(dim=-1, keepdim=True)\n",
        "           frozen_logits = frozen_image_features @ text_features.T # Use the same text features\n",
        "\n",
        "          import torch.nn.functional as F\n",
        "          T = 2.0  # temperatura\n",
        "\n",
        "          # Classificazione loss\n",
        "          ce_loss = criterion(logits, target)\n",
        "\n",
        "          # Distillation loss (KL tra teacher e student con softmax a T)\n",
        "          log_probs = F.log_softmax(logits / T, dim=1)\n",
        "          target_probs = F.softmax(frozen_logits / T, dim=1)\n",
        "          kl_div = F.kl_div(log_probs, target_probs, reduction=\"batchmean\") * (T * T)\n",
        "\n",
        "          # Loss totale\n",
        "          loss = ce_loss + const * kl_div\n",
        "          total_loss += loss.item()\n",
        "\n",
        "          # Backpropagation\n",
        "          loss.backward()\n",
        "          #torch.nn.utils.clip_grad_norm_(model.parameters(), max_norm=1.0)\n",
        "          optimizer.step()\n",
        "          optimizer.zero_grad()\n",
        "\n",
        "          # Training accuracy computation\n",
        "          predicted_class = logits.argmax(dim=-1)\n",
        "          correct_predictions += (predicted_class == target).sum().item()\n",
        "\n",
        "    print(f\"Epoch {epoch + 1}, Training loss: {total_loss/ len(train_dataloader)}; Training accuracy: {correct_predictions / len(train_dataset)*100:.2f}%\")\n",
        "    print()\n",
        "\n",
        "    # Validation of one epoch\n",
        "\n",
        "    model.eval()\n",
        "    total_loss = 0\n",
        "    correct_predictions = 0\n",
        "\n",
        "    for image, target in tqdm(val_dataloader):\n",
        "\n",
        "          target = torch.Tensor([contig_cat2idx[t.item()] for t in target]).long()\n",
        "\n",
        "          image = image.to(device).float()\n",
        "          target = target.to(device)\n",
        "\n",
        "          # forward image through CLIP image encoder\n",
        "          image_features = model.encode_image(image).float()\n",
        "          # and normalize\n",
        "          image_features_norm = image_features.norm(dim=-1, keepdim=True)\n",
        "          image_features = image_features / image_features_norm # per avere norma 1 per calcolare cosine similarity\n",
        "\n",
        "          # here cosine similarity between image and text features and keep the argmax for every row (every image)\n",
        "          logits = image_features @ text_features.T\n",
        "\n",
        "          loss = criterion(logits, target)\n",
        "          total_loss += loss.item()\n",
        "\n",
        "          # Validation accuracy computation\n",
        "          predicted_class = logits.argmax(dim=-1)\n",
        "          correct_predictions += (predicted_class == target).sum().item()\n",
        "\n",
        "    print(f\"Epoch {epoch + 1}, Validation loss: {total_loss/ len(val_dataloader)}; Validation accuracy: {correct_predictions / len(val_dataset)*100:.2f}%\")\n",
        "    print()\n",
        "    print(\"-----------------------------------------------------------------------------------------------\")\n",
        "\n",
        "  return(model)\n",
        "\n",
        "model, _ = clip.load(\"ViT-B/16\", device=device)\n",
        "model_ft_visual_layer_dist = fine_tuning_linear_visual(model=model, train_dataset=train_base, val_dataset=val_base, categories=base_classes, lr = 0.0001, batch_size=16, num_epochs=10, device=device)\n"
      ],
      "metadata": {
        "id": "wCE_T818gPoO",
        "outputId": "405a7714-5894-445f-abe3-dc2cbd470def",
        "colab": {
          "base_uri": "https://localhost:8080/"
        }
      },
      "execution_count": 45,
      "outputs": [
        {
          "output_type": "stream",
          "name": "stdout",
          "text": [
            "🧠 Fine-tuning training+validation on Base Classes\n"
          ]
        },
        {
          "output_type": "stream",
          "name": "stderr",
          "text": [
            "100%|██████████| 32/32 [00:12<00:00,  2.51it/s]\n"
          ]
        },
        {
          "output_type": "stream",
          "name": "stdout",
          "text": [
            "Epoch 1, Training loss: 3.850126877427101; Training accuracy: 70.39%\n",
            "\n"
          ]
        },
        {
          "output_type": "stream",
          "name": "stderr",
          "text": [
            "100%|██████████| 32/32 [00:06<00:00,  4.76it/s]\n"
          ]
        },
        {
          "output_type": "stream",
          "name": "stdout",
          "text": [
            "Epoch 1, Validation loss: 3.8336808755993843; Validation accuracy: 73.33%\n",
            "\n",
            "-----------------------------------------------------------------------------------------------\n"
          ]
        },
        {
          "output_type": "stream",
          "name": "stderr",
          "text": [
            "100%|██████████| 32/32 [00:13<00:00,  2.38it/s]\n"
          ]
        },
        {
          "output_type": "stream",
          "name": "stdout",
          "text": [
            "Epoch 2, Training loss: 3.842810571193695; Training accuracy: 71.96%\n",
            "\n"
          ]
        },
        {
          "output_type": "stream",
          "name": "stderr",
          "text": [
            "100%|██████████| 32/32 [00:06<00:00,  4.66it/s]\n"
          ]
        },
        {
          "output_type": "stream",
          "name": "stdout",
          "text": [
            "Epoch 2, Validation loss: 3.833041377365589; Validation accuracy: 73.92%\n",
            "\n",
            "-----------------------------------------------------------------------------------------------\n"
          ]
        },
        {
          "output_type": "stream",
          "name": "stderr",
          "text": [
            "100%|██████████| 32/32 [00:13<00:00,  2.43it/s]\n"
          ]
        },
        {
          "output_type": "stream",
          "name": "stdout",
          "text": [
            "Epoch 3, Training loss: 3.8400541990995407; Training accuracy: 73.14%\n",
            "\n"
          ]
        },
        {
          "output_type": "stream",
          "name": "stderr",
          "text": [
            "100%|██████████| 32/32 [00:06<00:00,  4.66it/s]\n"
          ]
        },
        {
          "output_type": "stream",
          "name": "stdout",
          "text": [
            "Epoch 3, Validation loss: 3.832799144089222; Validation accuracy: 74.12%\n",
            "\n",
            "-----------------------------------------------------------------------------------------------\n"
          ]
        },
        {
          "output_type": "stream",
          "name": "stderr",
          "text": [
            "100%|██████████| 32/32 [00:12<00:00,  2.48it/s]\n"
          ]
        },
        {
          "output_type": "stream",
          "name": "stdout",
          "text": [
            "Epoch 4, Training loss: 3.840943105518818; Training accuracy: 73.53%\n",
            "\n"
          ]
        },
        {
          "output_type": "stream",
          "name": "stderr",
          "text": [
            "100%|██████████| 32/32 [00:06<00:00,  4.80it/s]\n"
          ]
        },
        {
          "output_type": "stream",
          "name": "stdout",
          "text": [
            "Epoch 4, Validation loss: 3.8325901105999947; Validation accuracy: 75.29%\n",
            "\n",
            "-----------------------------------------------------------------------------------------------\n"
          ]
        },
        {
          "output_type": "stream",
          "name": "stderr",
          "text": [
            "100%|██████████| 32/32 [00:12<00:00,  2.49it/s]\n"
          ]
        },
        {
          "output_type": "stream",
          "name": "stdout",
          "text": [
            "Epoch 5, Training loss: 3.8399331644177437; Training accuracy: 74.51%\n",
            "\n"
          ]
        },
        {
          "output_type": "stream",
          "name": "stderr",
          "text": [
            "100%|██████████| 32/32 [00:06<00:00,  4.69it/s]\n"
          ]
        },
        {
          "output_type": "stream",
          "name": "stdout",
          "text": [
            "Epoch 5, Validation loss: 3.8320686295628548; Validation accuracy: 74.71%\n",
            "\n",
            "-----------------------------------------------------------------------------------------------\n"
          ]
        },
        {
          "output_type": "stream",
          "name": "stderr",
          "text": [
            "100%|██████████| 32/32 [00:12<00:00,  2.47it/s]\n"
          ]
        },
        {
          "output_type": "stream",
          "name": "stdout",
          "text": [
            "Epoch 6, Training loss: 3.840034767985344; Training accuracy: 74.31%\n",
            "\n"
          ]
        },
        {
          "output_type": "stream",
          "name": "stderr",
          "text": [
            "100%|██████████| 32/32 [00:06<00:00,  4.77it/s]\n"
          ]
        },
        {
          "output_type": "stream",
          "name": "stdout",
          "text": [
            "Epoch 6, Validation loss: 3.8319892436265945; Validation accuracy: 74.71%\n",
            "\n",
            "-----------------------------------------------------------------------------------------------\n"
          ]
        },
        {
          "output_type": "stream",
          "name": "stderr",
          "text": [
            "100%|██████████| 32/32 [00:13<00:00,  2.45it/s]\n"
          ]
        },
        {
          "output_type": "stream",
          "name": "stdout",
          "text": [
            "Epoch 7, Training loss: 3.8398176804184914; Training accuracy: 74.51%\n",
            "\n"
          ]
        },
        {
          "output_type": "stream",
          "name": "stderr",
          "text": [
            "100%|██████████| 32/32 [00:07<00:00,  4.50it/s]\n"
          ]
        },
        {
          "output_type": "stream",
          "name": "stdout",
          "text": [
            "Epoch 7, Validation loss: 3.8312157541513443; Validation accuracy: 75.69%\n",
            "\n",
            "-----------------------------------------------------------------------------------------------\n"
          ]
        },
        {
          "output_type": "stream",
          "name": "stderr",
          "text": [
            "100%|██████████| 32/32 [00:12<00:00,  2.47it/s]\n"
          ]
        },
        {
          "output_type": "stream",
          "name": "stdout",
          "text": [
            "Epoch 8, Training loss: 3.8401341289281845; Training accuracy: 75.69%\n",
            "\n"
          ]
        },
        {
          "output_type": "stream",
          "name": "stderr",
          "text": [
            "100%|██████████| 32/32 [00:06<00:00,  4.73it/s]\n"
          ]
        },
        {
          "output_type": "stream",
          "name": "stdout",
          "text": [
            "Epoch 8, Validation loss: 3.8318247571587563; Validation accuracy: 75.88%\n",
            "\n",
            "-----------------------------------------------------------------------------------------------\n"
          ]
        },
        {
          "output_type": "stream",
          "name": "stderr",
          "text": [
            "100%|██████████| 32/32 [00:13<00:00,  2.42it/s]\n"
          ]
        },
        {
          "output_type": "stream",
          "name": "stdout",
          "text": [
            "Epoch 9, Training loss: 3.8403000086545944; Training accuracy: 74.90%\n",
            "\n"
          ]
        },
        {
          "output_type": "stream",
          "name": "stderr",
          "text": [
            "100%|██████████| 32/32 [00:06<00:00,  4.75it/s]\n"
          ]
        },
        {
          "output_type": "stream",
          "name": "stdout",
          "text": [
            "Epoch 9, Validation loss: 3.832020752131939; Validation accuracy: 76.47%\n",
            "\n",
            "-----------------------------------------------------------------------------------------------\n"
          ]
        },
        {
          "output_type": "stream",
          "name": "stderr",
          "text": [
            "100%|██████████| 32/32 [00:12<00:00,  2.46it/s]\n"
          ]
        },
        {
          "output_type": "stream",
          "name": "stdout",
          "text": [
            "Epoch 10, Training loss: 3.8399786427617073; Training accuracy: 76.27%\n",
            "\n"
          ]
        },
        {
          "output_type": "stream",
          "name": "stderr",
          "text": [
            "100%|██████████| 32/32 [00:06<00:00,  4.65it/s]"
          ]
        },
        {
          "output_type": "stream",
          "name": "stdout",
          "text": [
            "Epoch 10, Validation loss: 3.8322192430496216; Validation accuracy: 75.29%\n",
            "\n",
            "-----------------------------------------------------------------------------------------------\n"
          ]
        },
        {
          "output_type": "stream",
          "name": "stderr",
          "text": [
            "\n"
          ]
        }
      ]
    },
    {
      "cell_type": "code",
      "source": [
        "base_accuracy = eval(model=model_ft_visual_layer_dist, dataset=test_base, categories=base_classes, batch_size=128, device=device, label=\"🧠 Few-shot evaluation on Base Classes\")\n",
        "novel_accuracy = eval(model=model_ft_visual_layer_dist, dataset=test_novel, categories=novel_classes, batch_size=128, device=device, label=\"🧠 Zero-shot evaluation on Novel Classes\")\n",
        "print()\n",
        "print(f\"🔍 Base classes accuracy: {base_accuracy*100:.2f}%\")\n",
        "print(f\"🔍 Novel classes accuracy: {novel_accuracy*100:.2f}%\")"
      ],
      "metadata": {
        "id": "3bJRXp6quM1c",
        "outputId": "5ecb1387-b223-4168-8363-00b83df39197",
        "colab": {
          "base_uri": "https://localhost:8080/"
        }
      },
      "execution_count": 46,
      "outputs": [
        {
          "output_type": "stream",
          "name": "stderr",
          "text": [
            "🧠 Few-shot evaluation on Base Classes: 100%|██████████| 20/20 [00:29<00:00,  1.50s/it]\n",
            "🧠 Zero-shot evaluation on Novel Classes: 100%|██████████| 29/29 [00:43<00:00,  1.50s/it]"
          ]
        },
        {
          "output_type": "stream",
          "name": "stdout",
          "text": [
            "\n",
            "🔍 Base classes accuracy: 75.70%\n",
            "🔍 Novel classes accuracy: 77.75%\n"
          ]
        },
        {
          "output_type": "stream",
          "name": "stderr",
          "text": [
            "\n"
          ]
        }
      ]
    },
    {
      "cell_type": "markdown",
      "source": [
        "# Layer Norm"
      ],
      "metadata": {
        "id": "UUi_DPPm8Iw6"
      }
    },
    {
      "cell_type": "code",
      "source": [
        "from torch.utils.data import DataLoader\n",
        "from torch.optim import Adam\n",
        "import torchvision.transforms as transforms\n",
        "\n",
        "def fine_tuning_linear_visual(model, train_dataset, val_dataset, categories, lr, batch_size, num_epochs, device):\n",
        "\n",
        "  train_dataloader = torch.utils.data.DataLoader(train_dataset, batch_size=batch_size, shuffle=True, num_workers=2)\n",
        "  val_dataloader = torch.utils.data.DataLoader(val_dataset, batch_size=batch_size, shuffle=False, num_workers=2)\n",
        "\n",
        "  model = model.float()\n",
        "\n",
        "  visual_projection = model.visual.proj\n",
        "  text_projection = model.text_projection\n",
        "\n",
        "  # Freeze all parameters in the model\n",
        "  for name, param in model.named_parameters():\n",
        "    if \"ln\" not in name:  # Check for LayerNorm parameters\n",
        "        param.requires_grad = False\n",
        "\n",
        "# Verify which parameters are trainable\n",
        "  trainable_params = [param for name, param in model.named_parameters() if param.requires_grad]\n",
        "\n",
        "  criterion = torch.nn.CrossEntropyLoss()\n",
        "  optimizer = Adam(trainable_params, lr=lr)\n",
        "\n",
        "  contig_cat2idx = {cat: idx for idx, cat in enumerate(categories)}\n",
        "\n",
        "\n",
        "\n",
        "  print(\"🧠 Fine-tuning training+validation on Base Classes\")\n",
        "\n",
        "  for epoch in range(num_epochs):\n",
        "\n",
        "    # Training of one epoch\n",
        "\n",
        "    model.train()\n",
        "    # here we store the sum of all the computed losses through the all batches\n",
        "    total_loss = 0\n",
        "    # here we store the number of correct predictions we will make\n",
        "    correct_predictions = 0\n",
        "\n",
        "    for image, target in tqdm(train_dataloader):\n",
        "          text_inputs = clip.tokenize(\n",
        "          [f\"a photo of a {CLASS_NAMES[c]}, a type of flower.\" for c in categories]).to(device)\n",
        "\n",
        "          text_features = model.encode_text(text_inputs).float()\n",
        "          # and here we normalize them (standard pratice with CLIP)\n",
        "          text_feature_norm = text_features.norm(dim=-1, keepdim=True)\n",
        "          text_features = text_features/text_feature_norm # per avere norma 1 per calcolare cosine similarity\n",
        "\n",
        "          target = torch.Tensor([contig_cat2idx[t.item()] for t in target]).long()\n",
        "\n",
        "          image = image.to(device).float()\n",
        "          target = target.to(device)\n",
        "\n",
        "          # forward image through CLIP image encoder\n",
        "          image_features = model.encode_image(image).float()\n",
        "          # and normalize\n",
        "          image_features_norm = image_features.norm(dim=-1, keepdim=True)\n",
        "          image_features = image_features / image_features_norm # per avere norma 1 per calcolare cosine similarity\n",
        "\n",
        "          # here cosine similarity between image and text features and keep the argmax for every row (every image)\n",
        "          logits = image_features @ text_features.T\n",
        "\n",
        "          loss = criterion(logits, target)\n",
        "          total_loss += loss.item()\n",
        "\n",
        "          # Backpropagation\n",
        "          loss.backward()\n",
        "          torch.nn.utils.clip_grad_norm_(model.parameters(), max_norm=1.0)\n",
        "          optimizer.step()\n",
        "          optimizer.zero_grad()\n",
        "\n",
        "          # Training accuracy computation\n",
        "          predicted_class = logits.argmax(dim=-1)\n",
        "          correct_predictions += (predicted_class == target).sum().item()\n",
        "\n",
        "    print(f\"Epoch {epoch + 1}, Training loss: {total_loss/ len(train_dataloader)}; Training accuracy: {correct_predictions / len(train_dataset)*100:.2f}%\")\n",
        "    print()\n",
        "\n",
        "    # Validation of one epoch\n",
        "\n",
        "    model.eval()\n",
        "    total_loss = 0\n",
        "    correct_predictions = 0\n",
        "\n",
        "    for image, target in tqdm(val_dataloader):\n",
        "\n",
        "          target = torch.Tensor([contig_cat2idx[t.item()] for t in target]).long()\n",
        "\n",
        "          image = image.to(device).float()\n",
        "          target = target.to(device)\n",
        "\n",
        "          # forward image through CLIP image encoder\n",
        "          image_features = model.encode_image(image).float()\n",
        "          # and normalize\n",
        "          image_features_norm = image_features.norm(dim=-1, keepdim=True)\n",
        "          image_features = image_features / image_features_norm # per avere norma 1 per calcolare cosine similarity\n",
        "\n",
        "          # here cosine similarity between image and text features and keep the argmax for every row (every image)\n",
        "          logits = image_features @ text_features.T\n",
        "\n",
        "          loss = criterion(logits, target)\n",
        "          total_loss += loss.item()\n",
        "\n",
        "          # Validation accuracy computation\n",
        "          predicted_class = logits.argmax(dim=-1)\n",
        "          correct_predictions += (predicted_class == target).sum().item()\n",
        "\n",
        "    print(f\"Epoch {epoch + 1}, Validation loss: {total_loss/ len(val_dataloader)}; Validation accuracy: {correct_predictions / len(val_dataset)*100:.2f}%\")\n",
        "    novel_accuracy = eval(model=model, dataset=test_novel, categories=novel_classes, batch_size=32, device=device, label=\"🧠 Zero-shot evaluation on Novel Classes\")\n",
        "    print(f\"🔍 Novel classes accuracy: {novel_accuracy*100:.2f}%\")\n",
        "    print()\n",
        "    print(\"-----------------------------------------------------------------------------------------------\")\n",
        "\n",
        "  return(model)\n",
        "\n",
        "model, _ = clip.load(\"ViT-B/16\", device=device)\n",
        "model_ft_visual_layer = fine_tuning_linear_visual(model=model, train_dataset=train_base, val_dataset=val_base, categories=base_classes, lr = 0.0001, batch_size=32, num_epochs=30, device=device)"
      ],
      "metadata": {
        "id": "4UDK7UO_8Gh0",
        "outputId": "41181a30-e833-485a-b531-6e9afc344801",
        "colab": {
          "base_uri": "https://localhost:8080/",
          "height": 1000
        }
      },
      "execution_count": null,
      "outputs": [
        {
          "output_type": "stream",
          "name": "stdout",
          "text": [
            "🧠 Fine-tuning training+validation on Base Classes\n"
          ]
        },
        {
          "output_type": "stream",
          "name": "stderr",
          "text": [
            "100%|██████████| 16/16 [00:18<00:00,  1.17s/it]\n"
          ]
        },
        {
          "output_type": "stream",
          "name": "stdout",
          "text": [
            "Epoch 1, Training loss: 3.836524084210396; Training accuracy: 69.02%\n",
            "\n"
          ]
        },
        {
          "output_type": "stream",
          "name": "stderr",
          "text": [
            "100%|██████████| 16/16 [00:06<00:00,  2.38it/s]\n"
          ]
        },
        {
          "output_type": "stream",
          "name": "stdout",
          "text": [
            "Epoch 1, Validation loss: 3.8312969505786896; Validation accuracy: 71.57%\n"
          ]
        },
        {
          "output_type": "stream",
          "name": "stderr",
          "text": [
            "🧠 Zero-shot evaluation on Novel Classes: 100%|██████████| 115/115 [00:42<00:00,  2.73it/s]\n"
          ]
        },
        {
          "output_type": "stream",
          "name": "stdout",
          "text": [
            "🔍 Novel classes accuracy: 78.35%\n",
            "\n",
            "-----------------------------------------------------------------------------------------------\n"
          ]
        },
        {
          "output_type": "stream",
          "name": "stderr",
          "text": [
            "100%|██████████| 16/16 [00:18<00:00,  1.13s/it]\n"
          ]
        },
        {
          "output_type": "stream",
          "name": "stdout",
          "text": [
            "Epoch 2, Training loss: 3.8295159488916397; Training accuracy: 69.41%\n",
            "\n"
          ]
        },
        {
          "output_type": "stream",
          "name": "stderr",
          "text": [
            "100%|██████████| 16/16 [00:06<00:00,  2.53it/s]\n"
          ]
        },
        {
          "output_type": "stream",
          "name": "stdout",
          "text": [
            "Epoch 2, Validation loss: 3.8246214538812637; Validation accuracy: 72.16%\n"
          ]
        },
        {
          "output_type": "stream",
          "name": "stderr",
          "text": [
            "🧠 Zero-shot evaluation on Novel Classes: 100%|██████████| 115/115 [00:42<00:00,  2.70it/s]\n"
          ]
        },
        {
          "output_type": "stream",
          "name": "stdout",
          "text": [
            "🔍 Novel classes accuracy: 78.37%\n",
            "\n",
            "-----------------------------------------------------------------------------------------------\n"
          ]
        },
        {
          "output_type": "stream",
          "name": "stderr",
          "text": [
            "100%|██████████| 16/16 [00:17<00:00,  1.11s/it]\n"
          ]
        },
        {
          "output_type": "stream",
          "name": "stdout",
          "text": [
            "Epoch 3, Training loss: 3.82290743291378; Training accuracy: 69.22%\n",
            "\n"
          ]
        },
        {
          "output_type": "stream",
          "name": "stderr",
          "text": [
            "100%|██████████| 16/16 [00:06<00:00,  2.44it/s]\n"
          ]
        },
        {
          "output_type": "stream",
          "name": "stdout",
          "text": [
            "Epoch 3, Validation loss: 3.818163588643074; Validation accuracy: 73.14%\n"
          ]
        },
        {
          "output_type": "stream",
          "name": "stderr",
          "text": [
            "🧠 Zero-shot evaluation on Novel Classes: 100%|██████████| 115/115 [00:42<00:00,  2.74it/s]\n"
          ]
        },
        {
          "output_type": "stream",
          "name": "stdout",
          "text": [
            "🔍 Novel classes accuracy: 78.16%\n",
            "\n",
            "-----------------------------------------------------------------------------------------------\n"
          ]
        },
        {
          "output_type": "stream",
          "name": "stderr",
          "text": [
            "100%|██████████| 16/16 [00:17<00:00,  1.11s/it]\n"
          ]
        },
        {
          "output_type": "stream",
          "name": "stdout",
          "text": [
            "Epoch 4, Training loss: 3.816444754600525; Training accuracy: 70.20%\n",
            "\n"
          ]
        },
        {
          "output_type": "stream",
          "name": "stderr",
          "text": [
            "100%|██████████| 16/16 [00:06<00:00,  2.54it/s]\n"
          ]
        },
        {
          "output_type": "stream",
          "name": "stdout",
          "text": [
            "Epoch 4, Validation loss: 3.811863273382187; Validation accuracy: 72.94%\n"
          ]
        },
        {
          "output_type": "stream",
          "name": "stderr",
          "text": [
            "🧠 Zero-shot evaluation on Novel Classes: 100%|██████████| 115/115 [00:42<00:00,  2.73it/s]\n"
          ]
        },
        {
          "output_type": "stream",
          "name": "stdout",
          "text": [
            "🔍 Novel classes accuracy: 77.97%\n",
            "\n",
            "-----------------------------------------------------------------------------------------------\n"
          ]
        },
        {
          "output_type": "stream",
          "name": "stderr",
          "text": [
            "100%|██████████| 16/16 [00:17<00:00,  1.12s/it]\n"
          ]
        },
        {
          "output_type": "stream",
          "name": "stdout",
          "text": [
            "Epoch 5, Training loss: 3.810079589486122; Training accuracy: 70.59%\n",
            "\n"
          ]
        },
        {
          "output_type": "stream",
          "name": "stderr",
          "text": [
            "100%|██████████| 16/16 [00:06<00:00,  2.55it/s]\n"
          ]
        },
        {
          "output_type": "stream",
          "name": "stdout",
          "text": [
            "Epoch 5, Validation loss: 3.8056256771087646; Validation accuracy: 72.94%\n"
          ]
        },
        {
          "output_type": "stream",
          "name": "stderr",
          "text": [
            "🧠 Zero-shot evaluation on Novel Classes: 100%|██████████| 115/115 [00:42<00:00,  2.70it/s]\n"
          ]
        },
        {
          "output_type": "stream",
          "name": "stdout",
          "text": [
            "🔍 Novel classes accuracy: 77.88%\n",
            "\n",
            "-----------------------------------------------------------------------------------------------\n"
          ]
        },
        {
          "output_type": "stream",
          "name": "stderr",
          "text": [
            "100%|██████████| 16/16 [00:17<00:00,  1.11s/it]\n"
          ]
        },
        {
          "output_type": "stream",
          "name": "stdout",
          "text": [
            "Epoch 6, Training loss: 3.8037253618240356; Training accuracy: 71.18%\n",
            "\n"
          ]
        },
        {
          "output_type": "stream",
          "name": "stderr",
          "text": [
            "100%|██████████| 16/16 [00:06<00:00,  2.51it/s]\n"
          ]
        },
        {
          "output_type": "stream",
          "name": "stdout",
          "text": [
            "Epoch 6, Validation loss: 3.7994285374879837; Validation accuracy: 72.75%\n"
          ]
        },
        {
          "output_type": "stream",
          "name": "stderr",
          "text": [
            "🧠 Zero-shot evaluation on Novel Classes: 100%|██████████| 115/115 [00:42<00:00,  2.73it/s]\n"
          ]
        },
        {
          "output_type": "stream",
          "name": "stdout",
          "text": [
            "🔍 Novel classes accuracy: 77.88%\n",
            "\n",
            "-----------------------------------------------------------------------------------------------\n"
          ]
        },
        {
          "output_type": "stream",
          "name": "stderr",
          "text": [
            "100%|██████████| 16/16 [00:17<00:00,  1.10s/it]\n"
          ]
        },
        {
          "output_type": "stream",
          "name": "stdout",
          "text": [
            "Epoch 7, Training loss: 3.797354355454445; Training accuracy: 71.18%\n",
            "\n"
          ]
        },
        {
          "output_type": "stream",
          "name": "stderr",
          "text": [
            "100%|██████████| 16/16 [00:06<00:00,  2.48it/s]\n"
          ]
        },
        {
          "output_type": "stream",
          "name": "stdout",
          "text": [
            "Epoch 7, Validation loss: 3.793176233768463; Validation accuracy: 72.55%\n"
          ]
        },
        {
          "output_type": "stream",
          "name": "stderr",
          "text": [
            "🧠 Zero-shot evaluation on Novel Classes: 100%|██████████| 115/115 [00:42<00:00,  2.73it/s]\n"
          ]
        },
        {
          "output_type": "stream",
          "name": "stdout",
          "text": [
            "🔍 Novel classes accuracy: 77.69%\n",
            "\n",
            "-----------------------------------------------------------------------------------------------\n"
          ]
        },
        {
          "output_type": "stream",
          "name": "stderr",
          "text": [
            "100%|██████████| 16/16 [00:17<00:00,  1.11s/it]\n"
          ]
        },
        {
          "output_type": "stream",
          "name": "stdout",
          "text": [
            "Epoch 8, Training loss: 3.7909667789936066; Training accuracy: 71.18%\n",
            "\n"
          ]
        },
        {
          "output_type": "stream",
          "name": "stderr",
          "text": [
            "100%|██████████| 16/16 [00:06<00:00,  2.51it/s]\n"
          ]
        },
        {
          "output_type": "stream",
          "name": "stdout",
          "text": [
            "Epoch 8, Validation loss: 3.7869236767292023; Validation accuracy: 72.94%\n"
          ]
        },
        {
          "output_type": "stream",
          "name": "stderr",
          "text": [
            "🧠 Zero-shot evaluation on Novel Classes: 100%|██████████| 115/115 [00:42<00:00,  2.72it/s]\n"
          ]
        },
        {
          "output_type": "stream",
          "name": "stdout",
          "text": [
            "🔍 Novel classes accuracy: 77.58%\n",
            "\n",
            "-----------------------------------------------------------------------------------------------\n"
          ]
        },
        {
          "output_type": "stream",
          "name": "stderr",
          "text": [
            "100%|██████████| 16/16 [00:18<00:00,  1.13s/it]\n"
          ]
        },
        {
          "output_type": "stream",
          "name": "stdout",
          "text": [
            "Epoch 9, Training loss: 3.7844999879598618; Training accuracy: 70.98%\n",
            "\n"
          ]
        },
        {
          "output_type": "stream",
          "name": "stderr",
          "text": [
            "100%|██████████| 16/16 [00:06<00:00,  2.54it/s]\n"
          ]
        },
        {
          "output_type": "stream",
          "name": "stdout",
          "text": [
            "Epoch 9, Validation loss: 3.78067210316658; Validation accuracy: 73.33%\n"
          ]
        },
        {
          "output_type": "stream",
          "name": "stderr",
          "text": [
            "🧠 Zero-shot evaluation on Novel Classes: 100%|██████████| 115/115 [00:42<00:00,  2.69it/s]\n"
          ]
        },
        {
          "output_type": "stream",
          "name": "stdout",
          "text": [
            "🔍 Novel classes accuracy: 77.58%\n",
            "\n",
            "-----------------------------------------------------------------------------------------------\n"
          ]
        },
        {
          "output_type": "stream",
          "name": "stderr",
          "text": [
            "100%|██████████| 16/16 [00:17<00:00,  1.11s/it]\n"
          ]
        },
        {
          "output_type": "stream",
          "name": "stdout",
          "text": [
            "Epoch 10, Training loss: 3.778153195977211; Training accuracy: 71.18%\n",
            "\n"
          ]
        },
        {
          "output_type": "stream",
          "name": "stderr",
          "text": [
            "100%|██████████| 16/16 [00:06<00:00,  2.49it/s]\n"
          ]
        },
        {
          "output_type": "stream",
          "name": "stdout",
          "text": [
            "Epoch 10, Validation loss: 3.7743978649377823; Validation accuracy: 73.53%\n"
          ]
        },
        {
          "output_type": "stream",
          "name": "stderr",
          "text": [
            "🧠 Zero-shot evaluation on Novel Classes: 100%|██████████| 115/115 [00:42<00:00,  2.73it/s]\n"
          ]
        },
        {
          "output_type": "stream",
          "name": "stdout",
          "text": [
            "🔍 Novel classes accuracy: 77.45%\n",
            "\n",
            "-----------------------------------------------------------------------------------------------\n"
          ]
        },
        {
          "output_type": "stream",
          "name": "stderr",
          "text": [
            "100%|██████████| 16/16 [00:17<00:00,  1.11s/it]\n"
          ]
        },
        {
          "output_type": "stream",
          "name": "stdout",
          "text": [
            "Epoch 11, Training loss: 3.7716043144464493; Training accuracy: 72.55%\n",
            "\n"
          ]
        },
        {
          "output_type": "stream",
          "name": "stderr",
          "text": [
            "100%|██████████| 16/16 [00:06<00:00,  2.38it/s]\n"
          ]
        },
        {
          "output_type": "stream",
          "name": "stdout",
          "text": [
            "Epoch 11, Validation loss: 3.7680599689483643; Validation accuracy: 73.33%\n"
          ]
        },
        {
          "output_type": "stream",
          "name": "stderr",
          "text": [
            "🧠 Zero-shot evaluation on Novel Classes: 100%|██████████| 115/115 [00:42<00:00,  2.72it/s]\n"
          ]
        },
        {
          "output_type": "stream",
          "name": "stdout",
          "text": [
            "🔍 Novel classes accuracy: 77.23%\n",
            "\n",
            "-----------------------------------------------------------------------------------------------\n"
          ]
        },
        {
          "output_type": "stream",
          "name": "stderr",
          "text": [
            "100%|██████████| 16/16 [00:17<00:00,  1.11s/it]\n"
          ]
        },
        {
          "output_type": "stream",
          "name": "stdout",
          "text": [
            "Epoch 12, Training loss: 3.7650596499443054; Training accuracy: 72.94%\n",
            "\n"
          ]
        },
        {
          "output_type": "stream",
          "name": "stderr",
          "text": [
            "100%|██████████| 16/16 [00:06<00:00,  2.54it/s]\n"
          ]
        },
        {
          "output_type": "stream",
          "name": "stdout",
          "text": [
            "Epoch 12, Validation loss: 3.7617155462503433; Validation accuracy: 73.53%\n"
          ]
        },
        {
          "output_type": "stream",
          "name": "stderr",
          "text": [
            "🧠 Zero-shot evaluation on Novel Classes: 100%|██████████| 115/115 [00:42<00:00,  2.73it/s]\n"
          ]
        },
        {
          "output_type": "stream",
          "name": "stdout",
          "text": [
            "🔍 Novel classes accuracy: 76.93%\n",
            "\n",
            "-----------------------------------------------------------------------------------------------\n"
          ]
        },
        {
          "output_type": "stream",
          "name": "stderr",
          "text": [
            "100%|██████████| 16/16 [00:17<00:00,  1.12s/it]\n"
          ]
        },
        {
          "output_type": "stream",
          "name": "stdout",
          "text": [
            "Epoch 13, Training loss: 3.758386805653572; Training accuracy: 73.73%\n",
            "\n"
          ]
        },
        {
          "output_type": "stream",
          "name": "stderr",
          "text": [
            "100%|██████████| 16/16 [00:06<00:00,  2.53it/s]\n"
          ]
        },
        {
          "output_type": "stream",
          "name": "stdout",
          "text": [
            "Epoch 13, Validation loss: 3.75533726811409; Validation accuracy: 73.53%\n"
          ]
        },
        {
          "output_type": "stream",
          "name": "stderr",
          "text": [
            "🧠 Zero-shot evaluation on Novel Classes: 100%|██████████| 115/115 [00:42<00:00,  2.71it/s]\n"
          ]
        },
        {
          "output_type": "stream",
          "name": "stdout",
          "text": [
            "🔍 Novel classes accuracy: 76.96%\n",
            "\n",
            "-----------------------------------------------------------------------------------------------\n"
          ]
        },
        {
          "output_type": "stream",
          "name": "stderr",
          "text": [
            "100%|██████████| 16/16 [00:17<00:00,  1.11s/it]\n"
          ]
        },
        {
          "output_type": "stream",
          "name": "stdout",
          "text": [
            "Epoch 14, Training loss: 3.751645013689995; Training accuracy: 73.73%\n",
            "\n"
          ]
        },
        {
          "output_type": "stream",
          "name": "stderr",
          "text": [
            "100%|██████████| 16/16 [00:06<00:00,  2.49it/s]\n"
          ]
        },
        {
          "output_type": "stream",
          "name": "stdout",
          "text": [
            "Epoch 14, Validation loss: 3.7488829493522644; Validation accuracy: 73.14%\n"
          ]
        },
        {
          "output_type": "stream",
          "name": "stderr",
          "text": [
            "🧠 Zero-shot evaluation on Novel Classes: 100%|██████████| 115/115 [00:42<00:00,  2.72it/s]\n"
          ]
        },
        {
          "output_type": "stream",
          "name": "stdout",
          "text": [
            "🔍 Novel classes accuracy: 76.99%\n",
            "\n",
            "-----------------------------------------------------------------------------------------------\n"
          ]
        },
        {
          "output_type": "stream",
          "name": "stderr",
          "text": [
            "100%|██████████| 16/16 [00:17<00:00,  1.11s/it]\n"
          ]
        },
        {
          "output_type": "stream",
          "name": "stdout",
          "text": [
            "Epoch 15, Training loss: 3.7448973804712296; Training accuracy: 74.31%\n",
            "\n"
          ]
        },
        {
          "output_type": "stream",
          "name": "stderr",
          "text": [
            "100%|██████████| 16/16 [00:06<00:00,  2.38it/s]\n"
          ]
        },
        {
          "output_type": "stream",
          "name": "stdout",
          "text": [
            "Epoch 15, Validation loss: 3.7423578649759293; Validation accuracy: 73.92%\n"
          ]
        },
        {
          "output_type": "stream",
          "name": "stderr",
          "text": [
            "🧠 Zero-shot evaluation on Novel Classes: 100%|██████████| 115/115 [00:42<00:00,  2.73it/s]\n"
          ]
        },
        {
          "output_type": "stream",
          "name": "stdout",
          "text": [
            "🔍 Novel classes accuracy: 76.96%\n",
            "\n",
            "-----------------------------------------------------------------------------------------------\n"
          ]
        },
        {
          "output_type": "stream",
          "name": "stderr",
          "text": [
            "100%|██████████| 16/16 [00:17<00:00,  1.11s/it]\n"
          ]
        },
        {
          "output_type": "stream",
          "name": "stdout",
          "text": [
            "Epoch 16, Training loss: 3.7381471693515778; Training accuracy: 75.29%\n",
            "\n"
          ]
        },
        {
          "output_type": "stream",
          "name": "stderr",
          "text": [
            "100%|██████████| 16/16 [00:06<00:00,  2.54it/s]\n"
          ]
        },
        {
          "output_type": "stream",
          "name": "stdout",
          "text": [
            "Epoch 16, Validation loss: 3.735743820667267; Validation accuracy: 74.12%\n"
          ]
        },
        {
          "output_type": "stream",
          "name": "stderr",
          "text": [
            "🧠 Zero-shot evaluation on Novel Classes: 100%|██████████| 115/115 [00:42<00:00,  2.72it/s]\n"
          ]
        },
        {
          "output_type": "stream",
          "name": "stdout",
          "text": [
            "🔍 Novel classes accuracy: 76.74%\n",
            "\n",
            "-----------------------------------------------------------------------------------------------\n"
          ]
        },
        {
          "output_type": "stream",
          "name": "stderr",
          "text": [
            "100%|██████████| 16/16 [00:17<00:00,  1.11s/it]\n"
          ]
        },
        {
          "output_type": "stream",
          "name": "stdout",
          "text": [
            "Epoch 17, Training loss: 3.7310997396707535; Training accuracy: 77.25%\n",
            "\n"
          ]
        },
        {
          "output_type": "stream",
          "name": "stderr",
          "text": [
            "100%|██████████| 16/16 [00:06<00:00,  2.53it/s]\n"
          ]
        },
        {
          "output_type": "stream",
          "name": "stdout",
          "text": [
            "Epoch 17, Validation loss: 3.729115381836891; Validation accuracy: 75.69%\n"
          ]
        },
        {
          "output_type": "stream",
          "name": "stderr",
          "text": [
            "🧠 Zero-shot evaluation on Novel Classes: 100%|██████████| 115/115 [00:42<00:00,  2.71it/s]\n"
          ]
        },
        {
          "output_type": "stream",
          "name": "stdout",
          "text": [
            "🔍 Novel classes accuracy: 76.47%\n",
            "\n",
            "-----------------------------------------------------------------------------------------------\n"
          ]
        },
        {
          "output_type": "stream",
          "name": "stderr",
          "text": [
            " 56%|█████▋    | 9/16 [00:10<00:08,  1.18s/it]\n"
          ]
        },
        {
          "output_type": "error",
          "ename": "KeyboardInterrupt",
          "evalue": "",
          "traceback": [
            "\u001b[0;31m---------------------------------------------------------------------------\u001b[0m",
            "\u001b[0;31mKeyboardInterrupt\u001b[0m                         Traceback (most recent call last)",
            "\u001b[0;32m<ipython-input-11-33ab26f1b2fd>\u001b[0m in \u001b[0;36m<cell line: 0>\u001b[0;34m()\u001b[0m\n\u001b[1;32m    117\u001b[0m \u001b[0;34m\u001b[0m\u001b[0m\n\u001b[1;32m    118\u001b[0m \u001b[0mmodel\u001b[0m\u001b[0;34m,\u001b[0m \u001b[0m_\u001b[0m \u001b[0;34m=\u001b[0m \u001b[0mclip\u001b[0m\u001b[0;34m.\u001b[0m\u001b[0mload\u001b[0m\u001b[0;34m(\u001b[0m\u001b[0;34m\"ViT-B/16\"\u001b[0m\u001b[0;34m,\u001b[0m \u001b[0mdevice\u001b[0m\u001b[0;34m=\u001b[0m\u001b[0mdevice\u001b[0m\u001b[0;34m)\u001b[0m\u001b[0;34m\u001b[0m\u001b[0;34m\u001b[0m\u001b[0m\n\u001b[0;32m--> 119\u001b[0;31m \u001b[0mmodel_ft_visual_layer\u001b[0m \u001b[0;34m=\u001b[0m \u001b[0mfine_tuning_linear_visual\u001b[0m\u001b[0;34m(\u001b[0m\u001b[0mmodel\u001b[0m\u001b[0;34m=\u001b[0m\u001b[0mmodel\u001b[0m\u001b[0;34m,\u001b[0m \u001b[0mtrain_dataset\u001b[0m\u001b[0;34m=\u001b[0m\u001b[0mtrain_base\u001b[0m\u001b[0;34m,\u001b[0m \u001b[0mval_dataset\u001b[0m\u001b[0;34m=\u001b[0m\u001b[0mval_base\u001b[0m\u001b[0;34m,\u001b[0m \u001b[0mcategories\u001b[0m\u001b[0;34m=\u001b[0m\u001b[0mbase_classes\u001b[0m\u001b[0;34m,\u001b[0m \u001b[0mlr\u001b[0m \u001b[0;34m=\u001b[0m \u001b[0;36m0.0001\u001b[0m\u001b[0;34m,\u001b[0m \u001b[0mbatch_size\u001b[0m\u001b[0;34m=\u001b[0m\u001b[0;36m32\u001b[0m\u001b[0;34m,\u001b[0m \u001b[0mnum_epochs\u001b[0m\u001b[0;34m=\u001b[0m\u001b[0;36m30\u001b[0m\u001b[0;34m,\u001b[0m \u001b[0mdevice\u001b[0m\u001b[0;34m=\u001b[0m\u001b[0mdevice\u001b[0m\u001b[0;34m)\u001b[0m\u001b[0;34m\u001b[0m\u001b[0;34m\u001b[0m\u001b[0m\n\u001b[0m",
            "\u001b[0;32m<ipython-input-11-33ab26f1b2fd>\u001b[0m in \u001b[0;36mfine_tuning_linear_visual\u001b[0;34m(model, train_dataset, val_dataset, categories, lr, batch_size, num_epochs, device)\u001b[0m\n\u001b[1;32m     64\u001b[0m \u001b[0;34m\u001b[0m\u001b[0m\n\u001b[1;32m     65\u001b[0m           \u001b[0mloss\u001b[0m \u001b[0;34m=\u001b[0m \u001b[0mcriterion\u001b[0m\u001b[0;34m(\u001b[0m\u001b[0mlogits\u001b[0m\u001b[0;34m,\u001b[0m \u001b[0mtarget\u001b[0m\u001b[0;34m)\u001b[0m\u001b[0;34m\u001b[0m\u001b[0;34m\u001b[0m\u001b[0m\n\u001b[0;32m---> 66\u001b[0;31m           \u001b[0mtotal_loss\u001b[0m \u001b[0;34m+=\u001b[0m \u001b[0mloss\u001b[0m\u001b[0;34m.\u001b[0m\u001b[0mitem\u001b[0m\u001b[0;34m(\u001b[0m\u001b[0;34m)\u001b[0m\u001b[0;34m\u001b[0m\u001b[0;34m\u001b[0m\u001b[0m\n\u001b[0m\u001b[1;32m     67\u001b[0m \u001b[0;34m\u001b[0m\u001b[0m\n\u001b[1;32m     68\u001b[0m           \u001b[0;31m# Backpropagation\u001b[0m\u001b[0;34m\u001b[0m\u001b[0;34m\u001b[0m\u001b[0m\n",
            "\u001b[0;31mKeyboardInterrupt\u001b[0m: "
          ]
        }
      ]
    },
    {
      "cell_type": "markdown",
      "source": [
        "# Simple prompt tuning"
      ],
      "metadata": {
        "id": "PFABN5Y8l9Ph"
      }
    },
    {
      "cell_type": "code",
      "source": [
        "import torch\n",
        "import torch.nn as nn\n",
        "\n",
        "class ModulationMLP(nn.Module):\n",
        "    def __init__(self, input_dim, hidden_dim, output_dim):\n",
        "        super().__init__()\n",
        "        self.mlp = nn.Sequential(\n",
        "            nn.Linear(input_dim, hidden_dim),\n",
        "            nn.ReLU(),\n",
        "            nn.Linear(hidden_dim, output_dim)\n",
        "        )\n",
        "\n",
        "    def forward(self, x):\n",
        "        return self.mlp(x)\n"
      ],
      "metadata": {
        "id": "g4RuzJelmJLz"
      },
      "execution_count": null,
      "outputs": []
    },
    {
      "cell_type": "code",
      "source": [
        "import os.path as osp\n",
        "from collections import OrderedDict\n",
        "import math\n",
        "\n",
        "import torch\n",
        "import torch.nn as nn\n",
        "from torch.nn import functional as F\n",
        "from torch.cuda.amp import GradScaler, autocast\n",
        "\n",
        "\n",
        "\n",
        "from clip import clip\n",
        "from clip.simple_tokenizer import SimpleTokenizer as _Tokenizer\n",
        "\n",
        "_tokenizer = _Tokenizer()\n",
        "\n",
        "\n",
        "\n",
        "\n",
        "class TextEncoder(nn.Module):\n",
        "    def __init__(self, clip_model):\n",
        "        super().__init__()\n",
        "        self.transformer = clip_model.transformer\n",
        "        self.positional_embedding = clip_model.positional_embedding\n",
        "        self.ln_final = clip_model.ln_final\n",
        "        self.text_projection = clip_model.text_projection\n",
        "        self.dtype = clip_model.dtype\n",
        "\n",
        "\n",
        "    def forward(self, prompts, tokenized_prompts):\n",
        "        x = prompts + self.positional_embedding.type(self.dtype)\n",
        "        x = x.permute(1, 0, 2)  # NLD -> LND\n",
        "        x = self.transformer(x)\n",
        "        x = x.permute(1, 0, 2)  # LND -> NLD\n",
        "        x = self.ln_final(x).type(self.dtype)\n",
        "\n",
        "        # x.shape = [batch_size, n_ctx, transformer.width]\n",
        "        # take features from the eot embedding (eot_token is the highest number in each sequence)\n",
        "        x = x[torch.arange(x.shape[0]), tokenized_prompts.argmax(dim=-1)] @ self.text_projection\n",
        "\n",
        "        return x\n",
        "\n",
        "\n",
        "class PromptLearner(nn.Module):\n",
        "    def __init__(self, clip_model, classnames, n_ctx, ctx_init, class_token_position, csc=False):\n",
        "        super().__init__()\n",
        "        n_cls = len(classnames)\n",
        "        ctx_dim = clip_model.ln_final.weight.shape[0]\n",
        "        clip_imsize = clip_model.visual.input_resolution\n",
        "        vis_dim = clip_model.visual.output_dim\n",
        "        self.meta_net = ModulationMLP(input_dim=vis_dim, hidden_dim=vis_dim//2, output_dim=ctx_dim)\n",
        "\n",
        "        # Use given words to initialize context vectors\n",
        "        if ctx_init:\n",
        "            ctx_init = ctx_init.replace(\"_\", \" \")\n",
        "            n_ctx = len(ctx_init.split(\" \"))\n",
        "            prompt = clip.tokenize(ctx_init).to(clip_model.token_embedding.weight.device)\n",
        "            with torch.no_grad():\n",
        "                embedding = clip_model.token_embedding(prompt)\n",
        "            ctx_vectors = embedding[0, 1 : 1 + n_ctx, :]\n",
        "            prompt_prefix = ctx_init\n",
        "            #we take prompt_prefix as the context that we give\n",
        "        else:\n",
        "            if csc:\n",
        "                print(\"Initializing class-specific contexts\")\n",
        "                ctx_vectors = torch.empty(n_cls, n_ctx, ctx_dim)\n",
        "            else:\n",
        "                print(\"Initializing a generic context\")\n",
        "                ctx_vectors = torch.empty(n_ctx, ctx_dim)\n",
        "\n",
        "            torch.nn.init.normal_(ctx_vectors, std=0.02)\n",
        "            prompt_prefix = \" \".join([\"X\"] * n_ctx)\n",
        "\n",
        "        print(f\"Initial context: '{prompt_prefix}'\")\n",
        "        print(f\"Number of context words (tokens): {n_ctx}\")\n",
        "\n",
        "        # These are the `prompts` we want to optimize\n",
        "        self.ctx = nn.Parameter(ctx_vectors) #we don't want this since we want to have just the parameters of the meta net\n",
        "\n",
        "        classnames = [name.replace(\"_\", \" \") for name in classnames]\n",
        "        name_lens = [len(_tokenizer.encode(name)) for name in classnames]\n",
        "        prompts = [prompt_prefix + \" \" + name + \".\" for name in classnames]\n",
        "\n",
        "        # print(\"+++\")\n",
        "        # print(\"Prompts:\")\n",
        "        # for p in prompts:\n",
        "        #     print(p)\n",
        "        # print(\"+++\")\n",
        "\n",
        "        tokenized_prompts = torch.cat([clip.tokenize(p) for p in prompts]).to(clip_model.token_embedding.weight.device)\n",
        "\n",
        "        with torch.no_grad():\n",
        "            embedding = clip_model.token_embedding(tokenized_prompts)\n",
        "\n",
        "        # These token vectors will be saved when in save_model(),\n",
        "        # but they should be ignored in load_model() as we want to use\n",
        "        # those computed using the current class names\n",
        "        self.register_buffer(\"token_prefix\", embedding[:, :1, :])  # SOS\n",
        "        self.register_buffer(\"token_suffix\", embedding[:, 1 + n_ctx :, :])  # CLS, EOS\n",
        "\n",
        "        self.n_cls = n_cls\n",
        "        self.n_ctx = n_ctx\n",
        "        self.tokenized_prompts = tokenized_prompts\n",
        "        self.name_lens = name_lens\n",
        "        self.class_token_position = class_token_position\n",
        "\n",
        "    def construct_prompts(self, ctx, prefix, suffix, label=None):\n",
        "        # dim0 is either batch_size (during training) or n_cls (during testing)\n",
        "        # ctx: context tokens, with shape of (dim0, n_ctx, ctx_dim)\n",
        "        # prefix: the sos token, with shape of (n_cls, 1, ctx_dim)\n",
        "        # suffix: remaining tokens, with shape of (n_cls, *, ctx_dim)\n",
        "\n",
        "        if label is not None:\n",
        "            prefix = prefix[label]\n",
        "            suffix = suffix[label]\n",
        "\n",
        "        prompts = torch.cat(\n",
        "            [\n",
        "                prefix,  # (dim0, 1, dim)\n",
        "                ctx,     # (dim0, n_ctx, dim)\n",
        "                suffix,  # (dim0, *, dim)\n",
        "            ],\n",
        "            dim=1,\n",
        "        )\n",
        "        return prompts\n",
        "\n",
        "    def forward(self, im_features):\n",
        "        prefix = self.token_prefix\n",
        "        suffix = self.token_suffix\n",
        "        ctx = self.ctx\n",
        "        bias = self.meta_net(im_features)\n",
        "        bias = bias.unsqueeze(1)           # (batch, 1, ctx_dim)\n",
        "        ctx = ctx.unsqueeze(0)             # (1, n_ctx, ctx_dim)\n",
        "        ctx_shifted = ctx + bias            # (batch, n_ctx, ctx_dim)\n",
        "        prompts = []\n",
        "        for ctx_shifted_i in ctx_shifted:\n",
        "            ctx_i = ctx_shifted_i.unsqueeze(0).expand(self.n_cls, -1, -1)\n",
        "            pts_i = self.construct_prompts(ctx_i, prefix, suffix)  # (n_cls, n_tkn, ctx_dim)\n",
        "            prompts.append(pts_i)\n",
        "        prompts = torch.stack(prompts)\n",
        "\n",
        "        return prompts\n",
        "\n",
        "\n"
      ],
      "metadata": {
        "id": "xH78D_nX6wG9"
      },
      "execution_count": null,
      "outputs": []
    },
    {
      "cell_type": "code",
      "source": [
        "class OurCLIP(nn.Module):\n",
        "    def __init__(self, classnames, n_ctx, ctx_init, class_token_position, csc=False):\n",
        "        super().__init__()\n",
        "        clip_model, _ = clip.load(\"ViT-B/16\", device=device)\n",
        "        # clip_model = clip_model.cpu()\n",
        "        clip_model = clip_model.float()\n",
        "\n",
        "        self.prompt_learner = PromptLearner(clip_model, classnames, n_ctx, ctx_init, class_token_position, csc=csc)\n",
        "        self.tokenized_prompts = self.prompt_learner.tokenized_prompts\n",
        "        self.image_encoder = clip_model.visual\n",
        "        self.text_encoder = TextEncoder(clip_model)\n",
        "        self.logit_scale = clip_model.logit_scale\n",
        "\n",
        "    def forward(self, image, label = None):\n",
        "        image_features = self.image_encoder(image)\n",
        "\n",
        "        prompts = self.prompt_learner(image_features)\n",
        "        tokenized_prompts = self.tokenized_prompts\n",
        "        text_features = self.text_encoder(prompts, tokenized_prompts)\n",
        "\n",
        "        image_features = image_features / image_features.norm(dim=-1, keepdim=True)\n",
        "        text_features = text_features / text_features.norm(dim=-1, keepdim=True)\n",
        "\n",
        "        logit_scale = self.logit_scale.exp()\n",
        "        logits = logit_scale * image_features @ text_features.t()\n",
        "\n",
        "        return logits"
      ],
      "metadata": {
        "id": "uFAd8yhXyLyM"
      },
      "execution_count": null,
      "outputs": []
    },
    {
      "cell_type": "code",
      "source": [
        "from torch.utils.data import DataLoader\n",
        "from torch.optim import Adam\n",
        "import torchvision.transforms as transforms\n",
        "def cocoop( train_dataset, val_dataset, categories,  batch_size, num_epochs, device, n_ctx=4,\n",
        "    ctx_init=\"a photo of a type of flower, the \",\n",
        "    class_token_position=\"end\",\n",
        "    csc=False):\n",
        "\n",
        "  train_dataloader = torch.utils.data.DataLoader(train_dataset, batch_size=batch_size, shuffle=True, num_workers=2)\n",
        "  val_dataloader = torch.utils.data.DataLoader(val_dataset, batch_size=batch_size, shuffle=False, num_workers=2)\n",
        "\n",
        "  model = OurCLIP(\n",
        "        classnames=name_base, n_ctx=n_ctx, ctx_init=ctx_init, class_token_position=class_token_position, csc=csc\n",
        "    ).to(device)\n",
        "\n",
        "  print(\"Turning off gradients in both the image and the text encoder\")\n",
        "  for name, param in model.named_parameters():\n",
        "        if \"prompt_learner\" not in name:\n",
        "            param.requires_grad_(False)\n",
        "\n",
        "  print(f\"Total parameters: {sum(p.numel() for p in model.parameters()):,}\")\n",
        "  print(f\"Total trainable parameters: {sum(p.numel() for p in model.parameters() if p.requires_grad):,}\")\n",
        "\n",
        "\n",
        "\n",
        "\n",
        "  trainable_params = [param for name, param in model.named_parameters() if param.requires_grad]\n",
        "\n",
        "  criterion = torch.nn.CrossEntropyLoss()\n",
        "  optimizer = Adam(trainable_params, lr=0.002,  weight_decay=0.0005)\n",
        "\n",
        "# Verify which parameters are trainable\n",
        "\n",
        "  contig_cat2idx = {cat: idx for idx, cat in enumerate(categories)}\n",
        "\n",
        "\n",
        "\n",
        "  print(\"🧠 Fine-tuning training+validation on Base Classes\")\n",
        "\n",
        "  for epoch in range(num_epochs):\n",
        "\n",
        "    # Training of one epoch\n",
        "\n",
        "    model.train()\n",
        "    # here we store the sum of all the computed losses through the all batches\n",
        "    total_loss = 0\n",
        "    # here we store the number of correct predictions we will make\n",
        "    correct_predictions = 0\n",
        "\n",
        "    for image, target in tqdm(train_dataloader):\n",
        "\n",
        "\n",
        "          target = torch.Tensor([contig_cat2idx[t.item()] for t in target]).long()\n",
        "\n",
        "          image = image.to(device).float()\n",
        "          target = target.to(device)\n",
        "          output = model(image)\n",
        "\n",
        "          # forward image through CLIP image encoder\n",
        "\n",
        "          loss = criterion(output, target)\n",
        "          total_loss += loss.item()\n",
        "\n",
        "          # Backpropagation\n",
        "          loss.backward()\n",
        "          torch.nn.utils.clip_grad_norm_(model.parameters(), max_norm=1.0)\n",
        "          optimizer.step()\n",
        "          optimizer.zero_grad()\n",
        "\n",
        "          # Training accuracy computation\n",
        "          predicted_class = output.argmax(dim=-1)\n",
        "          correct_predictions += (predicted_class == target).sum().item()\n",
        "\n",
        "    print(f\"Epoch {epoch + 1}, Training loss: {total_loss/ len(train_dataloader)}; Training accuracy: {correct_predictions / len(train_dataset)*100:.2f}%\")\n",
        "    print()\n",
        "\n",
        "    # Validation of one epoch\n",
        "\n",
        "    model.eval()\n",
        "    total_loss = 0\n",
        "    correct_predictions = 0\n",
        "\n",
        "    for image, target in tqdm(val_dataloader):\n",
        "\n",
        "          target = torch.Tensor([contig_cat2idx[t.item()] for t in target]).long()\n",
        "\n",
        "          image = image.to(device).float()\n",
        "          target = target.to(device)\n",
        "\n",
        "          # forward image through CLIP image encoder\n",
        "          output= model(image)\n",
        "\n",
        "          loss = criterion(output, target)\n",
        "          total_loss += loss.item()\n",
        "\n",
        "          # Validation accuracy computation\n",
        "          predicted_class = output.argmax(dim=-1)\n",
        "          correct_predictions += (predicted_class == target).sum().item()\n",
        "\n",
        "    print(f\"Epoch {epoch + 1}, Validation loss: {total_loss/ len(val_dataloader)}; Validation accuracy: {correct_predictions / len(val_dataset)*100:.2f}%\")\n",
        "    print()\n",
        "    print(\"-----------------------------------------------------------------------------------------------\")\n",
        "\n",
        "  return(model)\n",
        "\n",
        "model_cocoop = cocoop( train_dataset=train_base, val_dataset=val_base, categories=base_classes, batch_size=32, num_epochs=30, device=device)"
      ],
      "metadata": {
        "colab": {
          "base_uri": "https://localhost:8080/",
          "height": 514
        },
        "id": "2YuY2yp74JQS",
        "outputId": "a9f348cb-a53c-49b5-dbc9-d1e4bf98fdcb"
      },
      "execution_count": null,
      "outputs": [
        {
          "output_type": "stream",
          "name": "stdout",
          "text": [
            "Initial context: 'a photo of a type of flower, the '\n",
            "Number of context words (tokens): 9\n",
            "Turning off gradients in both the image and the text encoder\n",
            "Total parameters: 124,591,361\n",
            "Total trainable parameters: 267,520\n",
            "🧠 Fine-tuning training+validation on Base Classes\n"
          ]
        },
        {
          "output_type": "stream",
          "name": "stderr",
          "text": [
            "  0%|          | 0/16 [00:00<?, ?it/s]\n"
          ]
        },
        {
          "output_type": "error",
          "ename": "RuntimeError",
          "evalue": "permute(sparse_coo): number of dimensions in the tensor input does not match the length of the desired ordering of dimensions i.e. input.dim() = 4 is not equal to len(dims) = 3",
          "traceback": [
            "\u001b[0;31m---------------------------------------------------------------------------\u001b[0m",
            "\u001b[0;31mRuntimeError\u001b[0m                              Traceback (most recent call last)",
            "\u001b[0;32m<ipython-input-29-127395cc74af>\u001b[0m in \u001b[0;36m<cell line: 0>\u001b[0;34m()\u001b[0m\n\u001b[1;32m    104\u001b[0m   \u001b[0;32mreturn\u001b[0m\u001b[0;34m(\u001b[0m\u001b[0mmodel\u001b[0m\u001b[0;34m)\u001b[0m\u001b[0;34m\u001b[0m\u001b[0;34m\u001b[0m\u001b[0m\n\u001b[1;32m    105\u001b[0m \u001b[0;34m\u001b[0m\u001b[0m\n\u001b[0;32m--> 106\u001b[0;31m \u001b[0mmodel_cocoop\u001b[0m \u001b[0;34m=\u001b[0m \u001b[0mcocoop\u001b[0m\u001b[0;34m(\u001b[0m \u001b[0mtrain_dataset\u001b[0m\u001b[0;34m=\u001b[0m\u001b[0mtrain_base\u001b[0m\u001b[0;34m,\u001b[0m \u001b[0mval_dataset\u001b[0m\u001b[0;34m=\u001b[0m\u001b[0mval_base\u001b[0m\u001b[0;34m,\u001b[0m \u001b[0mcategories\u001b[0m\u001b[0;34m=\u001b[0m\u001b[0mbase_classes\u001b[0m\u001b[0;34m,\u001b[0m \u001b[0mbatch_size\u001b[0m\u001b[0;34m=\u001b[0m\u001b[0;36m32\u001b[0m\u001b[0;34m,\u001b[0m \u001b[0mnum_epochs\u001b[0m\u001b[0;34m=\u001b[0m\u001b[0;36m30\u001b[0m\u001b[0;34m,\u001b[0m \u001b[0mdevice\u001b[0m\u001b[0;34m=\u001b[0m\u001b[0mdevice\u001b[0m\u001b[0;34m)\u001b[0m\u001b[0;34m\u001b[0m\u001b[0;34m\u001b[0m\u001b[0m\n\u001b[0m",
            "\u001b[0;32m<ipython-input-29-127395cc74af>\u001b[0m in \u001b[0;36mcocoop\u001b[0;34m(train_dataset, val_dataset, categories, batch_size, num_epochs, device, n_ctx, ctx_init, class_token_position, csc)\u001b[0m\n\u001b[1;32m     55\u001b[0m           \u001b[0mimage\u001b[0m \u001b[0;34m=\u001b[0m \u001b[0mimage\u001b[0m\u001b[0;34m.\u001b[0m\u001b[0mto\u001b[0m\u001b[0;34m(\u001b[0m\u001b[0mdevice\u001b[0m\u001b[0;34m)\u001b[0m\u001b[0;34m.\u001b[0m\u001b[0mfloat\u001b[0m\u001b[0;34m(\u001b[0m\u001b[0;34m)\u001b[0m\u001b[0;34m\u001b[0m\u001b[0;34m\u001b[0m\u001b[0m\n\u001b[1;32m     56\u001b[0m           \u001b[0mtarget\u001b[0m \u001b[0;34m=\u001b[0m \u001b[0mtarget\u001b[0m\u001b[0;34m.\u001b[0m\u001b[0mto\u001b[0m\u001b[0;34m(\u001b[0m\u001b[0mdevice\u001b[0m\u001b[0;34m)\u001b[0m\u001b[0;34m\u001b[0m\u001b[0;34m\u001b[0m\u001b[0m\n\u001b[0;32m---> 57\u001b[0;31m           \u001b[0moutput\u001b[0m \u001b[0;34m=\u001b[0m \u001b[0mmodel\u001b[0m\u001b[0;34m(\u001b[0m\u001b[0mimage\u001b[0m\u001b[0;34m)\u001b[0m\u001b[0;34m\u001b[0m\u001b[0;34m\u001b[0m\u001b[0m\n\u001b[0m\u001b[1;32m     58\u001b[0m \u001b[0;34m\u001b[0m\u001b[0m\n\u001b[1;32m     59\u001b[0m           \u001b[0;31m# forward image through CLIP image encoder\u001b[0m\u001b[0;34m\u001b[0m\u001b[0;34m\u001b[0m\u001b[0m\n",
            "\u001b[0;32m/usr/local/lib/python3.11/dist-packages/torch/nn/modules/module.py\u001b[0m in \u001b[0;36m_wrapped_call_impl\u001b[0;34m(self, *args, **kwargs)\u001b[0m\n\u001b[1;32m   1737\u001b[0m             \u001b[0;32mreturn\u001b[0m \u001b[0mself\u001b[0m\u001b[0;34m.\u001b[0m\u001b[0m_compiled_call_impl\u001b[0m\u001b[0;34m(\u001b[0m\u001b[0;34m*\u001b[0m\u001b[0margs\u001b[0m\u001b[0;34m,\u001b[0m \u001b[0;34m**\u001b[0m\u001b[0mkwargs\u001b[0m\u001b[0;34m)\u001b[0m  \u001b[0;31m# type: ignore[misc]\u001b[0m\u001b[0;34m\u001b[0m\u001b[0;34m\u001b[0m\u001b[0m\n\u001b[1;32m   1738\u001b[0m         \u001b[0;32melse\u001b[0m\u001b[0;34m:\u001b[0m\u001b[0;34m\u001b[0m\u001b[0;34m\u001b[0m\u001b[0m\n\u001b[0;32m-> 1739\u001b[0;31m             \u001b[0;32mreturn\u001b[0m \u001b[0mself\u001b[0m\u001b[0;34m.\u001b[0m\u001b[0m_call_impl\u001b[0m\u001b[0;34m(\u001b[0m\u001b[0;34m*\u001b[0m\u001b[0margs\u001b[0m\u001b[0;34m,\u001b[0m \u001b[0;34m**\u001b[0m\u001b[0mkwargs\u001b[0m\u001b[0;34m)\u001b[0m\u001b[0;34m\u001b[0m\u001b[0;34m\u001b[0m\u001b[0m\n\u001b[0m\u001b[1;32m   1740\u001b[0m \u001b[0;34m\u001b[0m\u001b[0m\n\u001b[1;32m   1741\u001b[0m     \u001b[0;31m# torchrec tests the code consistency with the following code\u001b[0m\u001b[0;34m\u001b[0m\u001b[0;34m\u001b[0m\u001b[0m\n",
            "\u001b[0;32m/usr/local/lib/python3.11/dist-packages/torch/nn/modules/module.py\u001b[0m in \u001b[0;36m_call_impl\u001b[0;34m(self, *args, **kwargs)\u001b[0m\n\u001b[1;32m   1748\u001b[0m                 \u001b[0;32mor\u001b[0m \u001b[0m_global_backward_pre_hooks\u001b[0m \u001b[0;32mor\u001b[0m \u001b[0m_global_backward_hooks\u001b[0m\u001b[0;34m\u001b[0m\u001b[0;34m\u001b[0m\u001b[0m\n\u001b[1;32m   1749\u001b[0m                 or _global_forward_hooks or _global_forward_pre_hooks):\n\u001b[0;32m-> 1750\u001b[0;31m             \u001b[0;32mreturn\u001b[0m \u001b[0mforward_call\u001b[0m\u001b[0;34m(\u001b[0m\u001b[0;34m*\u001b[0m\u001b[0margs\u001b[0m\u001b[0;34m,\u001b[0m \u001b[0;34m**\u001b[0m\u001b[0mkwargs\u001b[0m\u001b[0;34m)\u001b[0m\u001b[0;34m\u001b[0m\u001b[0;34m\u001b[0m\u001b[0m\n\u001b[0m\u001b[1;32m   1751\u001b[0m \u001b[0;34m\u001b[0m\u001b[0m\n\u001b[1;32m   1752\u001b[0m         \u001b[0mresult\u001b[0m \u001b[0;34m=\u001b[0m \u001b[0;32mNone\u001b[0m\u001b[0;34m\u001b[0m\u001b[0;34m\u001b[0m\u001b[0m\n",
            "\u001b[0;32m<ipython-input-28-f913d84b8dbc>\u001b[0m in \u001b[0;36mforward\u001b[0;34m(self, image, label)\u001b[0m\n\u001b[1;32m     17\u001b[0m         \u001b[0mprompts\u001b[0m \u001b[0;34m=\u001b[0m \u001b[0mself\u001b[0m\u001b[0;34m.\u001b[0m\u001b[0mprompt_learner\u001b[0m\u001b[0;34m(\u001b[0m\u001b[0mimage_features\u001b[0m\u001b[0;34m)\u001b[0m\u001b[0;34m\u001b[0m\u001b[0;34m\u001b[0m\u001b[0m\n\u001b[1;32m     18\u001b[0m         \u001b[0mtokenized_prompts\u001b[0m \u001b[0;34m=\u001b[0m \u001b[0mself\u001b[0m\u001b[0;34m.\u001b[0m\u001b[0mtokenized_prompts\u001b[0m\u001b[0;34m\u001b[0m\u001b[0;34m\u001b[0m\u001b[0m\n\u001b[0;32m---> 19\u001b[0;31m         \u001b[0mtext_features\u001b[0m \u001b[0;34m=\u001b[0m \u001b[0mself\u001b[0m\u001b[0;34m.\u001b[0m\u001b[0mtext_encoder\u001b[0m\u001b[0;34m(\u001b[0m\u001b[0mprompts\u001b[0m\u001b[0;34m,\u001b[0m \u001b[0mtokenized_prompts\u001b[0m\u001b[0;34m)\u001b[0m\u001b[0;34m\u001b[0m\u001b[0;34m\u001b[0m\u001b[0m\n\u001b[0m\u001b[1;32m     20\u001b[0m \u001b[0;34m\u001b[0m\u001b[0m\n\u001b[1;32m     21\u001b[0m         \u001b[0mimage_features\u001b[0m \u001b[0;34m=\u001b[0m \u001b[0mimage_features\u001b[0m \u001b[0;34m/\u001b[0m \u001b[0mimage_features\u001b[0m\u001b[0;34m.\u001b[0m\u001b[0mnorm\u001b[0m\u001b[0;34m(\u001b[0m\u001b[0mdim\u001b[0m\u001b[0;34m=\u001b[0m\u001b[0;34m-\u001b[0m\u001b[0;36m1\u001b[0m\u001b[0;34m,\u001b[0m \u001b[0mkeepdim\u001b[0m\u001b[0;34m=\u001b[0m\u001b[0;32mTrue\u001b[0m\u001b[0;34m)\u001b[0m\u001b[0;34m\u001b[0m\u001b[0;34m\u001b[0m\u001b[0m\n",
            "\u001b[0;32m/usr/local/lib/python3.11/dist-packages/torch/nn/modules/module.py\u001b[0m in \u001b[0;36m_wrapped_call_impl\u001b[0;34m(self, *args, **kwargs)\u001b[0m\n\u001b[1;32m   1737\u001b[0m             \u001b[0;32mreturn\u001b[0m \u001b[0mself\u001b[0m\u001b[0;34m.\u001b[0m\u001b[0m_compiled_call_impl\u001b[0m\u001b[0;34m(\u001b[0m\u001b[0;34m*\u001b[0m\u001b[0margs\u001b[0m\u001b[0;34m,\u001b[0m \u001b[0;34m**\u001b[0m\u001b[0mkwargs\u001b[0m\u001b[0;34m)\u001b[0m  \u001b[0;31m# type: ignore[misc]\u001b[0m\u001b[0;34m\u001b[0m\u001b[0;34m\u001b[0m\u001b[0m\n\u001b[1;32m   1738\u001b[0m         \u001b[0;32melse\u001b[0m\u001b[0;34m:\u001b[0m\u001b[0;34m\u001b[0m\u001b[0;34m\u001b[0m\u001b[0m\n\u001b[0;32m-> 1739\u001b[0;31m             \u001b[0;32mreturn\u001b[0m \u001b[0mself\u001b[0m\u001b[0;34m.\u001b[0m\u001b[0m_call_impl\u001b[0m\u001b[0;34m(\u001b[0m\u001b[0;34m*\u001b[0m\u001b[0margs\u001b[0m\u001b[0;34m,\u001b[0m \u001b[0;34m**\u001b[0m\u001b[0mkwargs\u001b[0m\u001b[0;34m)\u001b[0m\u001b[0;34m\u001b[0m\u001b[0;34m\u001b[0m\u001b[0m\n\u001b[0m\u001b[1;32m   1740\u001b[0m \u001b[0;34m\u001b[0m\u001b[0m\n\u001b[1;32m   1741\u001b[0m     \u001b[0;31m# torchrec tests the code consistency with the following code\u001b[0m\u001b[0;34m\u001b[0m\u001b[0;34m\u001b[0m\u001b[0m\n",
            "\u001b[0;32m/usr/local/lib/python3.11/dist-packages/torch/nn/modules/module.py\u001b[0m in \u001b[0;36m_call_impl\u001b[0;34m(self, *args, **kwargs)\u001b[0m\n\u001b[1;32m   1748\u001b[0m                 \u001b[0;32mor\u001b[0m \u001b[0m_global_backward_pre_hooks\u001b[0m \u001b[0;32mor\u001b[0m \u001b[0m_global_backward_hooks\u001b[0m\u001b[0;34m\u001b[0m\u001b[0;34m\u001b[0m\u001b[0m\n\u001b[1;32m   1749\u001b[0m                 or _global_forward_hooks or _global_forward_pre_hooks):\n\u001b[0;32m-> 1750\u001b[0;31m             \u001b[0;32mreturn\u001b[0m \u001b[0mforward_call\u001b[0m\u001b[0;34m(\u001b[0m\u001b[0;34m*\u001b[0m\u001b[0margs\u001b[0m\u001b[0;34m,\u001b[0m \u001b[0;34m**\u001b[0m\u001b[0mkwargs\u001b[0m\u001b[0;34m)\u001b[0m\u001b[0;34m\u001b[0m\u001b[0;34m\u001b[0m\u001b[0m\n\u001b[0m\u001b[1;32m   1751\u001b[0m \u001b[0;34m\u001b[0m\u001b[0m\n\u001b[1;32m   1752\u001b[0m         \u001b[0mresult\u001b[0m \u001b[0;34m=\u001b[0m \u001b[0;32mNone\u001b[0m\u001b[0;34m\u001b[0m\u001b[0;34m\u001b[0m\u001b[0m\n",
            "\u001b[0;32m<ipython-input-18-7db36bac34fd>\u001b[0m in \u001b[0;36mforward\u001b[0;34m(self, prompts, tokenized_prompts)\u001b[0m\n\u001b[1;32m     30\u001b[0m     \u001b[0;32mdef\u001b[0m \u001b[0mforward\u001b[0m\u001b[0;34m(\u001b[0m\u001b[0mself\u001b[0m\u001b[0;34m,\u001b[0m \u001b[0mprompts\u001b[0m\u001b[0;34m,\u001b[0m \u001b[0mtokenized_prompts\u001b[0m\u001b[0;34m)\u001b[0m\u001b[0;34m:\u001b[0m\u001b[0;34m\u001b[0m\u001b[0;34m\u001b[0m\u001b[0m\n\u001b[1;32m     31\u001b[0m         \u001b[0mx\u001b[0m \u001b[0;34m=\u001b[0m \u001b[0mprompts\u001b[0m \u001b[0;34m+\u001b[0m \u001b[0mself\u001b[0m\u001b[0;34m.\u001b[0m\u001b[0mpositional_embedding\u001b[0m\u001b[0;34m.\u001b[0m\u001b[0mtype\u001b[0m\u001b[0;34m(\u001b[0m\u001b[0mself\u001b[0m\u001b[0;34m.\u001b[0m\u001b[0mdtype\u001b[0m\u001b[0;34m)\u001b[0m\u001b[0;34m\u001b[0m\u001b[0;34m\u001b[0m\u001b[0m\n\u001b[0;32m---> 32\u001b[0;31m         \u001b[0mx\u001b[0m \u001b[0;34m=\u001b[0m \u001b[0mx\u001b[0m\u001b[0;34m.\u001b[0m\u001b[0mpermute\u001b[0m\u001b[0;34m(\u001b[0m\u001b[0;36m1\u001b[0m\u001b[0;34m,\u001b[0m \u001b[0;36m0\u001b[0m\u001b[0;34m,\u001b[0m \u001b[0;36m2\u001b[0m\u001b[0;34m)\u001b[0m  \u001b[0;31m# NLD -> LND\u001b[0m\u001b[0;34m\u001b[0m\u001b[0;34m\u001b[0m\u001b[0m\n\u001b[0m\u001b[1;32m     33\u001b[0m         \u001b[0mx\u001b[0m \u001b[0;34m=\u001b[0m \u001b[0mself\u001b[0m\u001b[0;34m.\u001b[0m\u001b[0mtransformer\u001b[0m\u001b[0;34m(\u001b[0m\u001b[0mx\u001b[0m\u001b[0;34m)\u001b[0m\u001b[0;34m\u001b[0m\u001b[0;34m\u001b[0m\u001b[0m\n\u001b[1;32m     34\u001b[0m         \u001b[0mx\u001b[0m \u001b[0;34m=\u001b[0m \u001b[0mx\u001b[0m\u001b[0;34m.\u001b[0m\u001b[0mpermute\u001b[0m\u001b[0;34m(\u001b[0m\u001b[0;36m1\u001b[0m\u001b[0;34m,\u001b[0m \u001b[0;36m0\u001b[0m\u001b[0;34m,\u001b[0m \u001b[0;36m2\u001b[0m\u001b[0;34m)\u001b[0m  \u001b[0;31m# LND -> NLD\u001b[0m\u001b[0;34m\u001b[0m\u001b[0;34m\u001b[0m\u001b[0m\n",
            "\u001b[0;31mRuntimeError\u001b[0m: permute(sparse_coo): number of dimensions in the tensor input does not match the length of the desired ordering of dimensions i.e. input.dim() = 4 is not equal to len(dims) = 3"
          ]
        }
      ]
    },
    {
      "cell_type": "code",
      "source": [
        "def get_optimizer(model, lr, wd, momentum):\n",
        "    optimizer = torch.optim.SGD([\n",
        "        {\"params\": model.parameters()}\n",
        "    ], lr=lr, weight_decay=wd, momentum=momentum)\n",
        "\n",
        "    return optimizer\n",
        "\n",
        "def main_coop(\n",
        "    batch_size=16,\n",
        "    num_classes=10,\n",
        "    device=\"cuda:0\",\n",
        "    learning_rate=0.002,\n",
        "    weight_decay=0.0005,\n",
        "    momentum=0.9,\n",
        "    epochs=2,\n",
        "    run_name=\"exp1\",\n",
        "    n_ctx=4,\n",
        "    ctx_init=\"\",\n",
        "    class_token_position=\"end\",\n",
        "    csc=False,\n",
        "):\n",
        "    # Create a logger for the experiment\n",
        "    writer = SummaryWriter(log_dir=f\"runs/{run_name}\")\n",
        "\n",
        "    # Get dataloaders\n",
        "    train_loader, val_loader, test_loader = get_data(dataset_name, transform=preprocess, batch_size=batch_size)\n",
        "    classnames, _ = embed_dataset_classnames(dataset_name)\n",
        "\n",
        "    # Instantiate the network and move it to the chosen device (GPU)\n",
        "    net = OurCLIP(\n",
        "        classnames=classnames, n_ctx=n_ctx, ctx_init=ctx_init, class_token_position=class_token_position, csc=csc\n",
        "    ).to(device)\n",
        "\n",
        "    print(\"Turning off gradients in both the image and the text encoder\")\n",
        "    for name, param in net.named_parameters():\n",
        "        if \"prompt_learner\" not in name:\n",
        "            param.requires_grad_(False)\n",
        "\n",
        "    print(f\"Total parameters: {sum(p.numel() for p in net.parameters()):,}\")\n",
        "    print(f\"Total trainable parameters: {sum(p.numel() for p in net.parameters() if p.requires_grad):,}\")\n",
        "\n",
        "    # Instantiate the optimizer\n",
        "    optimizer = get_optimizer(net, learning_rate, weight_decay, momentum)\n",
        "\n",
        "    # Define the cost function\n",
        "    cost_function = get_cost_function()\n",
        "\n",
        "    # Computes evaluation results before training\n",
        "    print(\"Before training:\")\n",
        "    train_loss, train_accuracy = test_step(net, train_loader, cost_function)\n",
        "    val_loss, val_accuracy = test_step(net, val_loader, cost_function)\n",
        "    test_loss, test_accuracy = test_step(net, test_loader, cost_function)\n",
        "\n",
        "    # Log to TensorBoard\n",
        "    log_values(writer, -1, train_loss, train_accuracy, \"train\")\n",
        "    log_values(writer, -1, val_loss, val_accuracy, \"validation\")\n",
        "    log_values(writer, -1, test_loss, test_accuracy, \"test\")\n",
        "\n",
        "    print(f\"\\tTraining loss {train_loss:.5f}, Training accuracy {train_accuracy:.2f}\")\n",
        "    print(f\"\\tValidation loss {val_loss:.5f}, Validation accuracy {val_accuracy:.2f}\")\n",
        "    print(f\"\\tTest loss {test_loss:.5f}, Test accuracy {test_accuracy:.2f}\")\n",
        "\n",
        "    # For each epoch, train the network and then compute evaluation results\n",
        "    for e in range(epochs):\n",
        "        train_loss, train_accuracy = training_step(net, train_loader, optimizer, cost_function)\n",
        "        val_loss, val_accuracy = test_step(net, val_loader, cost_function)\n",
        "\n",
        "        log_values(writer, e, train_loss, train_accuracy, \"train\")\n",
        "        log_values(writer, e, val_loss, val_accuracy, \"validation\")\n",
        "\n",
        "    # Compute final evaluation results\n",
        "    print(\"After training:\")\n",
        "    train_loss, train_accuracy = test_step(net, train_loader, cost_function)\n",
        "    val_loss, val_accuracy = test_step(net, val_loader, cost_function)\n",
        "    test_loss, test_accuracy = test_step(net, test_loader, cost_function)\n",
        "\n",
        "    log_values(writer, epochs, train_loss, train_accuracy, \"train\")\n",
        "    log_values(writer, epochs, val_loss, val_accuracy, \"validation\")\n",
        "    log_values(writer, epochs, test_loss, test_accuracy, \"test\")\n",
        "    print(f\"\\tTraining loss {train_loss:.5f}, Training accuracy {train_accuracy:.2f}\")\n",
        "    print(f\"\\tValidation loss {val_loss:.5f}, Validation accuracy {val_accuracy:.2f}\")\n",
        "    print(f\"\\tTest loss {test_loss:.5f}, Test accuracy {test_accuracy:.2f}\")\n",
        "\n",
        "    # Closes the logger\n",
        "    writer.close()"
      ],
      "metadata": {
        "id": "1IVFdJLV0V-u"
      },
      "execution_count": null,
      "outputs": []
    }
  ],
  "metadata": {
    "accelerator": "GPU",
    "colab": {
      "gpuType": "T4",
      "provenance": []
    },
    "kernelspec": {
      "display_name": "Python 3",
      "name": "python3"
    },
    "language_info": {
      "codemirror_mode": {
        "name": "ipython",
        "version": 3
      },
      "file_extension": ".py",
      "mimetype": "text/x-python",
      "name": "python",
      "nbconvert_exporter": "python",
      "pygments_lexer": "ipython3",
      "version": "3.11.5"
    }
  },
  "nbformat": 4,
  "nbformat_minor": 0
}